{
  "nbformat": 4,
  "nbformat_minor": 0,
  "metadata": {
    "colab": {
      "provenance": []
    },
    "kernelspec": {
      "name": "python3",
      "display_name": "Python 3"
    },
    "language_info": {
      "name": "python"
    }
  },
  "cells": [
    {
      "cell_type": "markdown",
      "source": [
        "# Import Libraries"
      ],
      "metadata": {
        "id": "9BltsgmX5wWR"
      }
    },
    {
      "cell_type": "code",
      "source": [
        "import yfinance as yf\n",
        "import pandas as pd\n",
        "import matplotlib.pyplot as plt\n",
        "import seaborn as sns\n",
        "from datetime import datetime, timedelta"
      ],
      "metadata": {
        "id": "BScKeTrC3yDh"
      },
      "execution_count": 1,
      "outputs": []
    },
    {
      "cell_type": "markdown",
      "source": [
        "# Download Data"
      ],
      "metadata": {
        "id": "ZBl8RPSu51TE"
      }
    },
    {
      "cell_type": "code",
      "source": [
        "# Set Variables\n",
        "time_period = 360\n",
        "ticker_low = \"EDN\"\n",
        "adr_mult_low = 20  #https://www.sec.gov/ix?doc=/Archives/edgar/data/0001395213/000129281423001639/edndorm20f_2022.htm\n",
        "ticker_high = \"GGAL\"\n",
        "adr_mult_high = 10  #https://www.sec.gov/ix?doc=/Archives/edgar/data/0001114700/000111470023000012/ggal-20221231.htm"
      ],
      "metadata": {
        "id": "nMYGY1xr9b-Q"
      },
      "execution_count": 2,
      "outputs": []
    },
    {
      "cell_type": "code",
      "source": [
        "# Create Start / End\n",
        "start_date = (datetime.now() - timedelta(days=time_period)).strftime('%Y-%m-%d')\n",
        "end_date = datetime.now().strftime('%Y-%m-%d')"
      ],
      "metadata": {
        "id": "3MJPeJZH2Zvq"
      },
      "execution_count": 3,
      "outputs": []
    },
    {
      "cell_type": "code",
      "source": [
        "# Download Data\n",
        "df_stock_low = yf.download(f'{ticker_low}.BA', start=start_date, end=end_date)\n",
        "df_adr_low = yf.download(ticker_low, start=start_date, end=end_date)\n",
        "df_stock_high = yf.download(f'{ticker_high}.BA', start=start_date, end=end_date)\n",
        "df_adr_high = yf.download(ticker_high, start=start_date, end=end_date)"
      ],
      "metadata": {
        "colab": {
          "base_uri": "https://localhost:8080/"
        },
        "id": "DyF6mfmg2siC",
        "outputId": "ab8293b4-381d-47f5-81f1-470c9811aea0"
      },
      "execution_count": 4,
      "outputs": [
        {
          "output_type": "stream",
          "name": "stdout",
          "text": [
            "[*********************100%***********************]  1 of 1 completed\n",
            "[*********************100%***********************]  1 of 1 completed\n",
            "[*********************100%***********************]  1 of 1 completed\n",
            "[*********************100%***********************]  1 of 1 completed\n"
          ]
        }
      ]
    },
    {
      "cell_type": "markdown",
      "source": [
        "# Create CCL Tables"
      ],
      "metadata": {
        "id": "VDtC5BwVPpiE"
      }
    },
    {
      "cell_type": "code",
      "source": [
        "# Rename Columns\n",
        "df_stock_low = df_stock_low.rename(columns={'Close': 'Close_Stock'})\n",
        "df_adr_low = df_adr_low.rename(columns={'Close': 'Close_ADR'})\n",
        "df_stock_high = df_stock_high.rename(columns={'Close': 'Close_Stock'})\n",
        "df_adr_high = df_adr_high.rename(columns={'Close': 'Close_ADR'})"
      ],
      "metadata": {
        "id": "hZdD8G4EJrkC"
      },
      "execution_count": 5,
      "outputs": []
    },
    {
      "cell_type": "code",
      "source": [
        "# Combine Tables\n",
        "df_low = pd.concat([df_stock_low['Close_Stock'], df_adr_low[f'Close_ADR']], axis=1)\n",
        "df_high = pd.concat([df_stock_high['Close_Stock'], df_adr_high[f'Close_ADR']], axis=1)"
      ],
      "metadata": {
        "id": "OP15WPWT9J8j"
      },
      "execution_count": 6,
      "outputs": []
    },
    {
      "cell_type": "code",
      "source": [
        "# Calculate Ratio\n",
        "df_low['Ratio'] = df_low['Close_Stock'] / df_low['Close_ADR']\n",
        "df_low['CCL'] = df_low['Ratio'] * adr_mult_low\n",
        "df_high['Ratio'] = df_high['Close_Stock'] / df_high['Close_ADR']\n",
        "df_high['CCL'] = df_high['Ratio'] * adr_mult_high"
      ],
      "metadata": {
        "id": "isUIQSM-9UU4"
      },
      "execution_count": 7,
      "outputs": []
    },
    {
      "cell_type": "code",
      "source": [
        "# Rename Columns\n",
        "df_low = df_low.rename(columns={'CCL': f'CCL_{ticker_low}'})\n",
        "df_high = df_high.rename(columns={'CCL': f'CCL_{ticker_high}'})"
      ],
      "metadata": {
        "id": "OvWT0qH_MWnD"
      },
      "execution_count": 8,
      "outputs": []
    },
    {
      "cell_type": "code",
      "source": [
        "df_low"
      ],
      "metadata": {
        "colab": {
          "base_uri": "https://localhost:8080/",
          "height": 455
        },
        "id": "IlxYnZwUPVBY",
        "outputId": "8e4d5726-60eb-4f8e-b0b2-ef40a8c15bc4"
      },
      "execution_count": 9,
      "outputs": [
        {
          "output_type": "execute_result",
          "data": {
            "text/plain": [
              "            Close_Stock  Close_ADR      Ratio     CCL_EDN\n",
              "Date                                                     \n",
              "2022-06-29    54.650002       4.53  12.064017  241.280349\n",
              "2022-06-30    55.299999       4.36  12.683486  253.669714\n",
              "2022-07-01    55.200001       4.30  12.837209  256.744178\n",
              "2022-07-04    54.950001        NaN        NaN         NaN\n",
              "2022-07-05    55.849998       4.22  13.234597  264.691949\n",
              "...                 ...        ...        ...         ...\n",
              "2023-06-16   301.500000      11.98  25.166946  503.338917\n",
              "2023-06-20          NaN      14.20        NaN         NaN\n",
              "2023-06-21   353.600006      13.99  25.275197  505.503948\n",
              "2023-06-22   356.350006      14.00  25.453572  509.071437\n",
              "2023-06-23   366.799988      14.65  25.037542  500.750850\n",
              "\n",
              "[255 rows x 4 columns]"
            ],
            "text/html": [
              "\n",
              "  <div id=\"df-095d5ad1-f409-4252-aeeb-79a374ffda91\">\n",
              "    <div class=\"colab-df-container\">\n",
              "      <div>\n",
              "<style scoped>\n",
              "    .dataframe tbody tr th:only-of-type {\n",
              "        vertical-align: middle;\n",
              "    }\n",
              "\n",
              "    .dataframe tbody tr th {\n",
              "        vertical-align: top;\n",
              "    }\n",
              "\n",
              "    .dataframe thead th {\n",
              "        text-align: right;\n",
              "    }\n",
              "</style>\n",
              "<table border=\"1\" class=\"dataframe\">\n",
              "  <thead>\n",
              "    <tr style=\"text-align: right;\">\n",
              "      <th></th>\n",
              "      <th>Close_Stock</th>\n",
              "      <th>Close_ADR</th>\n",
              "      <th>Ratio</th>\n",
              "      <th>CCL_EDN</th>\n",
              "    </tr>\n",
              "    <tr>\n",
              "      <th>Date</th>\n",
              "      <th></th>\n",
              "      <th></th>\n",
              "      <th></th>\n",
              "      <th></th>\n",
              "    </tr>\n",
              "  </thead>\n",
              "  <tbody>\n",
              "    <tr>\n",
              "      <th>2022-06-29</th>\n",
              "      <td>54.650002</td>\n",
              "      <td>4.53</td>\n",
              "      <td>12.064017</td>\n",
              "      <td>241.280349</td>\n",
              "    </tr>\n",
              "    <tr>\n",
              "      <th>2022-06-30</th>\n",
              "      <td>55.299999</td>\n",
              "      <td>4.36</td>\n",
              "      <td>12.683486</td>\n",
              "      <td>253.669714</td>\n",
              "    </tr>\n",
              "    <tr>\n",
              "      <th>2022-07-01</th>\n",
              "      <td>55.200001</td>\n",
              "      <td>4.30</td>\n",
              "      <td>12.837209</td>\n",
              "      <td>256.744178</td>\n",
              "    </tr>\n",
              "    <tr>\n",
              "      <th>2022-07-04</th>\n",
              "      <td>54.950001</td>\n",
              "      <td>NaN</td>\n",
              "      <td>NaN</td>\n",
              "      <td>NaN</td>\n",
              "    </tr>\n",
              "    <tr>\n",
              "      <th>2022-07-05</th>\n",
              "      <td>55.849998</td>\n",
              "      <td>4.22</td>\n",
              "      <td>13.234597</td>\n",
              "      <td>264.691949</td>\n",
              "    </tr>\n",
              "    <tr>\n",
              "      <th>...</th>\n",
              "      <td>...</td>\n",
              "      <td>...</td>\n",
              "      <td>...</td>\n",
              "      <td>...</td>\n",
              "    </tr>\n",
              "    <tr>\n",
              "      <th>2023-06-16</th>\n",
              "      <td>301.500000</td>\n",
              "      <td>11.98</td>\n",
              "      <td>25.166946</td>\n",
              "      <td>503.338917</td>\n",
              "    </tr>\n",
              "    <tr>\n",
              "      <th>2023-06-20</th>\n",
              "      <td>NaN</td>\n",
              "      <td>14.20</td>\n",
              "      <td>NaN</td>\n",
              "      <td>NaN</td>\n",
              "    </tr>\n",
              "    <tr>\n",
              "      <th>2023-06-21</th>\n",
              "      <td>353.600006</td>\n",
              "      <td>13.99</td>\n",
              "      <td>25.275197</td>\n",
              "      <td>505.503948</td>\n",
              "    </tr>\n",
              "    <tr>\n",
              "      <th>2023-06-22</th>\n",
              "      <td>356.350006</td>\n",
              "      <td>14.00</td>\n",
              "      <td>25.453572</td>\n",
              "      <td>509.071437</td>\n",
              "    </tr>\n",
              "    <tr>\n",
              "      <th>2023-06-23</th>\n",
              "      <td>366.799988</td>\n",
              "      <td>14.65</td>\n",
              "      <td>25.037542</td>\n",
              "      <td>500.750850</td>\n",
              "    </tr>\n",
              "  </tbody>\n",
              "</table>\n",
              "<p>255 rows × 4 columns</p>\n",
              "</div>\n",
              "      <button class=\"colab-df-convert\" onclick=\"convertToInteractive('df-095d5ad1-f409-4252-aeeb-79a374ffda91')\"\n",
              "              title=\"Convert this dataframe to an interactive table.\"\n",
              "              style=\"display:none;\">\n",
              "        \n",
              "  <svg xmlns=\"http://www.w3.org/2000/svg\" height=\"24px\"viewBox=\"0 0 24 24\"\n",
              "       width=\"24px\">\n",
              "    <path d=\"M0 0h24v24H0V0z\" fill=\"none\"/>\n",
              "    <path d=\"M18.56 5.44l.94 2.06.94-2.06 2.06-.94-2.06-.94-.94-2.06-.94 2.06-2.06.94zm-11 1L8.5 8.5l.94-2.06 2.06-.94-2.06-.94L8.5 2.5l-.94 2.06-2.06.94zm10 10l.94 2.06.94-2.06 2.06-.94-2.06-.94-.94-2.06-.94 2.06-2.06.94z\"/><path d=\"M17.41 7.96l-1.37-1.37c-.4-.4-.92-.59-1.43-.59-.52 0-1.04.2-1.43.59L10.3 9.45l-7.72 7.72c-.78.78-.78 2.05 0 2.83L4 21.41c.39.39.9.59 1.41.59.51 0 1.02-.2 1.41-.59l7.78-7.78 2.81-2.81c.8-.78.8-2.07 0-2.86zM5.41 20L4 18.59l7.72-7.72 1.47 1.35L5.41 20z\"/>\n",
              "  </svg>\n",
              "      </button>\n",
              "      \n",
              "  <style>\n",
              "    .colab-df-container {\n",
              "      display:flex;\n",
              "      flex-wrap:wrap;\n",
              "      gap: 12px;\n",
              "    }\n",
              "\n",
              "    .colab-df-convert {\n",
              "      background-color: #E8F0FE;\n",
              "      border: none;\n",
              "      border-radius: 50%;\n",
              "      cursor: pointer;\n",
              "      display: none;\n",
              "      fill: #1967D2;\n",
              "      height: 32px;\n",
              "      padding: 0 0 0 0;\n",
              "      width: 32px;\n",
              "    }\n",
              "\n",
              "    .colab-df-convert:hover {\n",
              "      background-color: #E2EBFA;\n",
              "      box-shadow: 0px 1px 2px rgba(60, 64, 67, 0.3), 0px 1px 3px 1px rgba(60, 64, 67, 0.15);\n",
              "      fill: #174EA6;\n",
              "    }\n",
              "\n",
              "    [theme=dark] .colab-df-convert {\n",
              "      background-color: #3B4455;\n",
              "      fill: #D2E3FC;\n",
              "    }\n",
              "\n",
              "    [theme=dark] .colab-df-convert:hover {\n",
              "      background-color: #434B5C;\n",
              "      box-shadow: 0px 1px 3px 1px rgba(0, 0, 0, 0.15);\n",
              "      filter: drop-shadow(0px 1px 2px rgba(0, 0, 0, 0.3));\n",
              "      fill: #FFFFFF;\n",
              "    }\n",
              "  </style>\n",
              "\n",
              "      <script>\n",
              "        const buttonEl =\n",
              "          document.querySelector('#df-095d5ad1-f409-4252-aeeb-79a374ffda91 button.colab-df-convert');\n",
              "        buttonEl.style.display =\n",
              "          google.colab.kernel.accessAllowed ? 'block' : 'none';\n",
              "\n",
              "        async function convertToInteractive(key) {\n",
              "          const element = document.querySelector('#df-095d5ad1-f409-4252-aeeb-79a374ffda91');\n",
              "          const dataTable =\n",
              "            await google.colab.kernel.invokeFunction('convertToInteractive',\n",
              "                                                     [key], {});\n",
              "          if (!dataTable) return;\n",
              "\n",
              "          const docLinkHtml = 'Like what you see? Visit the ' +\n",
              "            '<a target=\"_blank\" href=https://colab.research.google.com/notebooks/data_table.ipynb>data table notebook</a>'\n",
              "            + ' to learn more about interactive tables.';\n",
              "          element.innerHTML = '';\n",
              "          dataTable['output_type'] = 'display_data';\n",
              "          await google.colab.output.renderOutput(dataTable, element);\n",
              "          const docLink = document.createElement('div');\n",
              "          docLink.innerHTML = docLinkHtml;\n",
              "          element.appendChild(docLink);\n",
              "        }\n",
              "      </script>\n",
              "    </div>\n",
              "  </div>\n",
              "  "
            ]
          },
          "metadata": {},
          "execution_count": 9
        }
      ]
    },
    {
      "cell_type": "code",
      "source": [
        "df_high"
      ],
      "metadata": {
        "colab": {
          "base_uri": "https://localhost:8080/",
          "height": 455
        },
        "id": "HgIxaH1yPbsM",
        "outputId": "5d4e3035-4893-4985-94ed-4735288c861b"
      },
      "execution_count": 10,
      "outputs": [
        {
          "output_type": "execute_result",
          "data": {
            "text/plain": [
              "            Close_Stock  Close_ADR      Ratio    CCL_GGAL\n",
              "Date                                                     \n",
              "2022-06-29   179.050003   7.170000  24.972106  249.721062\n",
              "2022-06-30   176.199997   6.910000  25.499277  254.992765\n",
              "2022-07-01   181.899994   7.160000  25.405028  254.050276\n",
              "2022-07-04   175.350006        NaN        NaN         NaN\n",
              "2022-07-05   187.050003   6.840000  27.346491  273.464911\n",
              "...                 ...        ...        ...         ...\n",
              "2023-06-16   857.500000  16.870001  50.829873  508.298730\n",
              "2023-06-20          NaN  17.150000        NaN         NaN\n",
              "2023-06-21   905.950012  17.799999  50.896070  508.960703\n",
              "2023-06-22   843.150024  16.500000  51.100001  511.000015\n",
              "2023-06-23   865.900024  16.780001  51.603098  516.030983\n",
              "\n",
              "[255 rows x 4 columns]"
            ],
            "text/html": [
              "\n",
              "  <div id=\"df-9cbe5b4a-9f44-4d39-8171-b96aa8127434\">\n",
              "    <div class=\"colab-df-container\">\n",
              "      <div>\n",
              "<style scoped>\n",
              "    .dataframe tbody tr th:only-of-type {\n",
              "        vertical-align: middle;\n",
              "    }\n",
              "\n",
              "    .dataframe tbody tr th {\n",
              "        vertical-align: top;\n",
              "    }\n",
              "\n",
              "    .dataframe thead th {\n",
              "        text-align: right;\n",
              "    }\n",
              "</style>\n",
              "<table border=\"1\" class=\"dataframe\">\n",
              "  <thead>\n",
              "    <tr style=\"text-align: right;\">\n",
              "      <th></th>\n",
              "      <th>Close_Stock</th>\n",
              "      <th>Close_ADR</th>\n",
              "      <th>Ratio</th>\n",
              "      <th>CCL_GGAL</th>\n",
              "    </tr>\n",
              "    <tr>\n",
              "      <th>Date</th>\n",
              "      <th></th>\n",
              "      <th></th>\n",
              "      <th></th>\n",
              "      <th></th>\n",
              "    </tr>\n",
              "  </thead>\n",
              "  <tbody>\n",
              "    <tr>\n",
              "      <th>2022-06-29</th>\n",
              "      <td>179.050003</td>\n",
              "      <td>7.170000</td>\n",
              "      <td>24.972106</td>\n",
              "      <td>249.721062</td>\n",
              "    </tr>\n",
              "    <tr>\n",
              "      <th>2022-06-30</th>\n",
              "      <td>176.199997</td>\n",
              "      <td>6.910000</td>\n",
              "      <td>25.499277</td>\n",
              "      <td>254.992765</td>\n",
              "    </tr>\n",
              "    <tr>\n",
              "      <th>2022-07-01</th>\n",
              "      <td>181.899994</td>\n",
              "      <td>7.160000</td>\n",
              "      <td>25.405028</td>\n",
              "      <td>254.050276</td>\n",
              "    </tr>\n",
              "    <tr>\n",
              "      <th>2022-07-04</th>\n",
              "      <td>175.350006</td>\n",
              "      <td>NaN</td>\n",
              "      <td>NaN</td>\n",
              "      <td>NaN</td>\n",
              "    </tr>\n",
              "    <tr>\n",
              "      <th>2022-07-05</th>\n",
              "      <td>187.050003</td>\n",
              "      <td>6.840000</td>\n",
              "      <td>27.346491</td>\n",
              "      <td>273.464911</td>\n",
              "    </tr>\n",
              "    <tr>\n",
              "      <th>...</th>\n",
              "      <td>...</td>\n",
              "      <td>...</td>\n",
              "      <td>...</td>\n",
              "      <td>...</td>\n",
              "    </tr>\n",
              "    <tr>\n",
              "      <th>2023-06-16</th>\n",
              "      <td>857.500000</td>\n",
              "      <td>16.870001</td>\n",
              "      <td>50.829873</td>\n",
              "      <td>508.298730</td>\n",
              "    </tr>\n",
              "    <tr>\n",
              "      <th>2023-06-20</th>\n",
              "      <td>NaN</td>\n",
              "      <td>17.150000</td>\n",
              "      <td>NaN</td>\n",
              "      <td>NaN</td>\n",
              "    </tr>\n",
              "    <tr>\n",
              "      <th>2023-06-21</th>\n",
              "      <td>905.950012</td>\n",
              "      <td>17.799999</td>\n",
              "      <td>50.896070</td>\n",
              "      <td>508.960703</td>\n",
              "    </tr>\n",
              "    <tr>\n",
              "      <th>2023-06-22</th>\n",
              "      <td>843.150024</td>\n",
              "      <td>16.500000</td>\n",
              "      <td>51.100001</td>\n",
              "      <td>511.000015</td>\n",
              "    </tr>\n",
              "    <tr>\n",
              "      <th>2023-06-23</th>\n",
              "      <td>865.900024</td>\n",
              "      <td>16.780001</td>\n",
              "      <td>51.603098</td>\n",
              "      <td>516.030983</td>\n",
              "    </tr>\n",
              "  </tbody>\n",
              "</table>\n",
              "<p>255 rows × 4 columns</p>\n",
              "</div>\n",
              "      <button class=\"colab-df-convert\" onclick=\"convertToInteractive('df-9cbe5b4a-9f44-4d39-8171-b96aa8127434')\"\n",
              "              title=\"Convert this dataframe to an interactive table.\"\n",
              "              style=\"display:none;\">\n",
              "        \n",
              "  <svg xmlns=\"http://www.w3.org/2000/svg\" height=\"24px\"viewBox=\"0 0 24 24\"\n",
              "       width=\"24px\">\n",
              "    <path d=\"M0 0h24v24H0V0z\" fill=\"none\"/>\n",
              "    <path d=\"M18.56 5.44l.94 2.06.94-2.06 2.06-.94-2.06-.94-.94-2.06-.94 2.06-2.06.94zm-11 1L8.5 8.5l.94-2.06 2.06-.94-2.06-.94L8.5 2.5l-.94 2.06-2.06.94zm10 10l.94 2.06.94-2.06 2.06-.94-2.06-.94-.94-2.06-.94 2.06-2.06.94z\"/><path d=\"M17.41 7.96l-1.37-1.37c-.4-.4-.92-.59-1.43-.59-.52 0-1.04.2-1.43.59L10.3 9.45l-7.72 7.72c-.78.78-.78 2.05 0 2.83L4 21.41c.39.39.9.59 1.41.59.51 0 1.02-.2 1.41-.59l7.78-7.78 2.81-2.81c.8-.78.8-2.07 0-2.86zM5.41 20L4 18.59l7.72-7.72 1.47 1.35L5.41 20z\"/>\n",
              "  </svg>\n",
              "      </button>\n",
              "      \n",
              "  <style>\n",
              "    .colab-df-container {\n",
              "      display:flex;\n",
              "      flex-wrap:wrap;\n",
              "      gap: 12px;\n",
              "    }\n",
              "\n",
              "    .colab-df-convert {\n",
              "      background-color: #E8F0FE;\n",
              "      border: none;\n",
              "      border-radius: 50%;\n",
              "      cursor: pointer;\n",
              "      display: none;\n",
              "      fill: #1967D2;\n",
              "      height: 32px;\n",
              "      padding: 0 0 0 0;\n",
              "      width: 32px;\n",
              "    }\n",
              "\n",
              "    .colab-df-convert:hover {\n",
              "      background-color: #E2EBFA;\n",
              "      box-shadow: 0px 1px 2px rgba(60, 64, 67, 0.3), 0px 1px 3px 1px rgba(60, 64, 67, 0.15);\n",
              "      fill: #174EA6;\n",
              "    }\n",
              "\n",
              "    [theme=dark] .colab-df-convert {\n",
              "      background-color: #3B4455;\n",
              "      fill: #D2E3FC;\n",
              "    }\n",
              "\n",
              "    [theme=dark] .colab-df-convert:hover {\n",
              "      background-color: #434B5C;\n",
              "      box-shadow: 0px 1px 3px 1px rgba(0, 0, 0, 0.15);\n",
              "      filter: drop-shadow(0px 1px 2px rgba(0, 0, 0, 0.3));\n",
              "      fill: #FFFFFF;\n",
              "    }\n",
              "  </style>\n",
              "\n",
              "      <script>\n",
              "        const buttonEl =\n",
              "          document.querySelector('#df-9cbe5b4a-9f44-4d39-8171-b96aa8127434 button.colab-df-convert');\n",
              "        buttonEl.style.display =\n",
              "          google.colab.kernel.accessAllowed ? 'block' : 'none';\n",
              "\n",
              "        async function convertToInteractive(key) {\n",
              "          const element = document.querySelector('#df-9cbe5b4a-9f44-4d39-8171-b96aa8127434');\n",
              "          const dataTable =\n",
              "            await google.colab.kernel.invokeFunction('convertToInteractive',\n",
              "                                                     [key], {});\n",
              "          if (!dataTable) return;\n",
              "\n",
              "          const docLinkHtml = 'Like what you see? Visit the ' +\n",
              "            '<a target=\"_blank\" href=https://colab.research.google.com/notebooks/data_table.ipynb>data table notebook</a>'\n",
              "            + ' to learn more about interactive tables.';\n",
              "          element.innerHTML = '';\n",
              "          dataTable['output_type'] = 'display_data';\n",
              "          await google.colab.output.renderOutput(dataTable, element);\n",
              "          const docLink = document.createElement('div');\n",
              "          docLink.innerHTML = docLinkHtml;\n",
              "          element.appendChild(docLink);\n",
              "        }\n",
              "      </script>\n",
              "    </div>\n",
              "  </div>\n",
              "  "
            ]
          },
          "metadata": {},
          "execution_count": 10
        }
      ]
    },
    {
      "cell_type": "code",
      "source": [
        "# Combine Tables\n",
        "df = pd.concat([df_low[f'CCL_{ticker_low}'], df_high[f'CCL_{ticker_high}']], axis=1)\n",
        "df"
      ],
      "metadata": {
        "colab": {
          "base_uri": "https://localhost:8080/",
          "height": 455
        },
        "id": "d8xrqsGMMvao",
        "outputId": "ee0d2c65-fecd-4ec8-9854-423862927a68"
      },
      "execution_count": 11,
      "outputs": [
        {
          "output_type": "execute_result",
          "data": {
            "text/plain": [
              "               CCL_EDN    CCL_GGAL\n",
              "Date                              \n",
              "2022-06-29  241.280349  249.721062\n",
              "2022-06-30  253.669714  254.992765\n",
              "2022-07-01  256.744178  254.050276\n",
              "2022-07-04         NaN         NaN\n",
              "2022-07-05  264.691949  273.464911\n",
              "...                ...         ...\n",
              "2023-06-16  503.338917  508.298730\n",
              "2023-06-20         NaN         NaN\n",
              "2023-06-21  505.503948  508.960703\n",
              "2023-06-22  509.071437  511.000015\n",
              "2023-06-23  500.750850  516.030983\n",
              "\n",
              "[255 rows x 2 columns]"
            ],
            "text/html": [
              "\n",
              "  <div id=\"df-31e28305-4d77-4217-9e4c-65e5f68a36db\">\n",
              "    <div class=\"colab-df-container\">\n",
              "      <div>\n",
              "<style scoped>\n",
              "    .dataframe tbody tr th:only-of-type {\n",
              "        vertical-align: middle;\n",
              "    }\n",
              "\n",
              "    .dataframe tbody tr th {\n",
              "        vertical-align: top;\n",
              "    }\n",
              "\n",
              "    .dataframe thead th {\n",
              "        text-align: right;\n",
              "    }\n",
              "</style>\n",
              "<table border=\"1\" class=\"dataframe\">\n",
              "  <thead>\n",
              "    <tr style=\"text-align: right;\">\n",
              "      <th></th>\n",
              "      <th>CCL_EDN</th>\n",
              "      <th>CCL_GGAL</th>\n",
              "    </tr>\n",
              "    <tr>\n",
              "      <th>Date</th>\n",
              "      <th></th>\n",
              "      <th></th>\n",
              "    </tr>\n",
              "  </thead>\n",
              "  <tbody>\n",
              "    <tr>\n",
              "      <th>2022-06-29</th>\n",
              "      <td>241.280349</td>\n",
              "      <td>249.721062</td>\n",
              "    </tr>\n",
              "    <tr>\n",
              "      <th>2022-06-30</th>\n",
              "      <td>253.669714</td>\n",
              "      <td>254.992765</td>\n",
              "    </tr>\n",
              "    <tr>\n",
              "      <th>2022-07-01</th>\n",
              "      <td>256.744178</td>\n",
              "      <td>254.050276</td>\n",
              "    </tr>\n",
              "    <tr>\n",
              "      <th>2022-07-04</th>\n",
              "      <td>NaN</td>\n",
              "      <td>NaN</td>\n",
              "    </tr>\n",
              "    <tr>\n",
              "      <th>2022-07-05</th>\n",
              "      <td>264.691949</td>\n",
              "      <td>273.464911</td>\n",
              "    </tr>\n",
              "    <tr>\n",
              "      <th>...</th>\n",
              "      <td>...</td>\n",
              "      <td>...</td>\n",
              "    </tr>\n",
              "    <tr>\n",
              "      <th>2023-06-16</th>\n",
              "      <td>503.338917</td>\n",
              "      <td>508.298730</td>\n",
              "    </tr>\n",
              "    <tr>\n",
              "      <th>2023-06-20</th>\n",
              "      <td>NaN</td>\n",
              "      <td>NaN</td>\n",
              "    </tr>\n",
              "    <tr>\n",
              "      <th>2023-06-21</th>\n",
              "      <td>505.503948</td>\n",
              "      <td>508.960703</td>\n",
              "    </tr>\n",
              "    <tr>\n",
              "      <th>2023-06-22</th>\n",
              "      <td>509.071437</td>\n",
              "      <td>511.000015</td>\n",
              "    </tr>\n",
              "    <tr>\n",
              "      <th>2023-06-23</th>\n",
              "      <td>500.750850</td>\n",
              "      <td>516.030983</td>\n",
              "    </tr>\n",
              "  </tbody>\n",
              "</table>\n",
              "<p>255 rows × 2 columns</p>\n",
              "</div>\n",
              "      <button class=\"colab-df-convert\" onclick=\"convertToInteractive('df-31e28305-4d77-4217-9e4c-65e5f68a36db')\"\n",
              "              title=\"Convert this dataframe to an interactive table.\"\n",
              "              style=\"display:none;\">\n",
              "        \n",
              "  <svg xmlns=\"http://www.w3.org/2000/svg\" height=\"24px\"viewBox=\"0 0 24 24\"\n",
              "       width=\"24px\">\n",
              "    <path d=\"M0 0h24v24H0V0z\" fill=\"none\"/>\n",
              "    <path d=\"M18.56 5.44l.94 2.06.94-2.06 2.06-.94-2.06-.94-.94-2.06-.94 2.06-2.06.94zm-11 1L8.5 8.5l.94-2.06 2.06-.94-2.06-.94L8.5 2.5l-.94 2.06-2.06.94zm10 10l.94 2.06.94-2.06 2.06-.94-2.06-.94-.94-2.06-.94 2.06-2.06.94z\"/><path d=\"M17.41 7.96l-1.37-1.37c-.4-.4-.92-.59-1.43-.59-.52 0-1.04.2-1.43.59L10.3 9.45l-7.72 7.72c-.78.78-.78 2.05 0 2.83L4 21.41c.39.39.9.59 1.41.59.51 0 1.02-.2 1.41-.59l7.78-7.78 2.81-2.81c.8-.78.8-2.07 0-2.86zM5.41 20L4 18.59l7.72-7.72 1.47 1.35L5.41 20z\"/>\n",
              "  </svg>\n",
              "      </button>\n",
              "      \n",
              "  <style>\n",
              "    .colab-df-container {\n",
              "      display:flex;\n",
              "      flex-wrap:wrap;\n",
              "      gap: 12px;\n",
              "    }\n",
              "\n",
              "    .colab-df-convert {\n",
              "      background-color: #E8F0FE;\n",
              "      border: none;\n",
              "      border-radius: 50%;\n",
              "      cursor: pointer;\n",
              "      display: none;\n",
              "      fill: #1967D2;\n",
              "      height: 32px;\n",
              "      padding: 0 0 0 0;\n",
              "      width: 32px;\n",
              "    }\n",
              "\n",
              "    .colab-df-convert:hover {\n",
              "      background-color: #E2EBFA;\n",
              "      box-shadow: 0px 1px 2px rgba(60, 64, 67, 0.3), 0px 1px 3px 1px rgba(60, 64, 67, 0.15);\n",
              "      fill: #174EA6;\n",
              "    }\n",
              "\n",
              "    [theme=dark] .colab-df-convert {\n",
              "      background-color: #3B4455;\n",
              "      fill: #D2E3FC;\n",
              "    }\n",
              "\n",
              "    [theme=dark] .colab-df-convert:hover {\n",
              "      background-color: #434B5C;\n",
              "      box-shadow: 0px 1px 3px 1px rgba(0, 0, 0, 0.15);\n",
              "      filter: drop-shadow(0px 1px 2px rgba(0, 0, 0, 0.3));\n",
              "      fill: #FFFFFF;\n",
              "    }\n",
              "  </style>\n",
              "\n",
              "      <script>\n",
              "        const buttonEl =\n",
              "          document.querySelector('#df-31e28305-4d77-4217-9e4c-65e5f68a36db button.colab-df-convert');\n",
              "        buttonEl.style.display =\n",
              "          google.colab.kernel.accessAllowed ? 'block' : 'none';\n",
              "\n",
              "        async function convertToInteractive(key) {\n",
              "          const element = document.querySelector('#df-31e28305-4d77-4217-9e4c-65e5f68a36db');\n",
              "          const dataTable =\n",
              "            await google.colab.kernel.invokeFunction('convertToInteractive',\n",
              "                                                     [key], {});\n",
              "          if (!dataTable) return;\n",
              "\n",
              "          const docLinkHtml = 'Like what you see? Visit the ' +\n",
              "            '<a target=\"_blank\" href=https://colab.research.google.com/notebooks/data_table.ipynb>data table notebook</a>'\n",
              "            + ' to learn more about interactive tables.';\n",
              "          element.innerHTML = '';\n",
              "          dataTable['output_type'] = 'display_data';\n",
              "          await google.colab.output.renderOutput(dataTable, element);\n",
              "          const docLink = document.createElement('div');\n",
              "          docLink.innerHTML = docLinkHtml;\n",
              "          element.appendChild(docLink);\n",
              "        }\n",
              "      </script>\n",
              "    </div>\n",
              "  </div>\n",
              "  "
            ]
          },
          "metadata": {},
          "execution_count": 11
        }
      ]
    },
    {
      "cell_type": "markdown",
      "source": [
        "# Plot CCL"
      ],
      "metadata": {
        "id": "SQkqj8SGPvmU"
      }
    },
    {
      "cell_type": "code",
      "source": [
        "# Melt Tables\n",
        "df_melted = df.reset_index().melt('Date', var_name='Instrument', value_name='CCL_Rate')\n",
        "df_melted"
      ],
      "metadata": {
        "colab": {
          "base_uri": "https://localhost:8080/",
          "height": 423
        },
        "id": "iypoRSdhNml6",
        "outputId": "f5a203e6-2c19-4a83-be25-a0e9422f04b6"
      },
      "execution_count": 12,
      "outputs": [
        {
          "output_type": "execute_result",
          "data": {
            "text/plain": [
              "          Date Instrument    CCL_Rate\n",
              "0   2022-06-29    CCL_EDN  241.280349\n",
              "1   2022-06-30    CCL_EDN  253.669714\n",
              "2   2022-07-01    CCL_EDN  256.744178\n",
              "3   2022-07-04    CCL_EDN         NaN\n",
              "4   2022-07-05    CCL_EDN  264.691949\n",
              "..         ...        ...         ...\n",
              "505 2023-06-16   CCL_GGAL  508.298730\n",
              "506 2023-06-20   CCL_GGAL         NaN\n",
              "507 2023-06-21   CCL_GGAL  508.960703\n",
              "508 2023-06-22   CCL_GGAL  511.000015\n",
              "509 2023-06-23   CCL_GGAL  516.030983\n",
              "\n",
              "[510 rows x 3 columns]"
            ],
            "text/html": [
              "\n",
              "  <div id=\"df-e93becde-b029-4c95-b69f-4c6dc705599f\">\n",
              "    <div class=\"colab-df-container\">\n",
              "      <div>\n",
              "<style scoped>\n",
              "    .dataframe tbody tr th:only-of-type {\n",
              "        vertical-align: middle;\n",
              "    }\n",
              "\n",
              "    .dataframe tbody tr th {\n",
              "        vertical-align: top;\n",
              "    }\n",
              "\n",
              "    .dataframe thead th {\n",
              "        text-align: right;\n",
              "    }\n",
              "</style>\n",
              "<table border=\"1\" class=\"dataframe\">\n",
              "  <thead>\n",
              "    <tr style=\"text-align: right;\">\n",
              "      <th></th>\n",
              "      <th>Date</th>\n",
              "      <th>Instrument</th>\n",
              "      <th>CCL_Rate</th>\n",
              "    </tr>\n",
              "  </thead>\n",
              "  <tbody>\n",
              "    <tr>\n",
              "      <th>0</th>\n",
              "      <td>2022-06-29</td>\n",
              "      <td>CCL_EDN</td>\n",
              "      <td>241.280349</td>\n",
              "    </tr>\n",
              "    <tr>\n",
              "      <th>1</th>\n",
              "      <td>2022-06-30</td>\n",
              "      <td>CCL_EDN</td>\n",
              "      <td>253.669714</td>\n",
              "    </tr>\n",
              "    <tr>\n",
              "      <th>2</th>\n",
              "      <td>2022-07-01</td>\n",
              "      <td>CCL_EDN</td>\n",
              "      <td>256.744178</td>\n",
              "    </tr>\n",
              "    <tr>\n",
              "      <th>3</th>\n",
              "      <td>2022-07-04</td>\n",
              "      <td>CCL_EDN</td>\n",
              "      <td>NaN</td>\n",
              "    </tr>\n",
              "    <tr>\n",
              "      <th>4</th>\n",
              "      <td>2022-07-05</td>\n",
              "      <td>CCL_EDN</td>\n",
              "      <td>264.691949</td>\n",
              "    </tr>\n",
              "    <tr>\n",
              "      <th>...</th>\n",
              "      <td>...</td>\n",
              "      <td>...</td>\n",
              "      <td>...</td>\n",
              "    </tr>\n",
              "    <tr>\n",
              "      <th>505</th>\n",
              "      <td>2023-06-16</td>\n",
              "      <td>CCL_GGAL</td>\n",
              "      <td>508.298730</td>\n",
              "    </tr>\n",
              "    <tr>\n",
              "      <th>506</th>\n",
              "      <td>2023-06-20</td>\n",
              "      <td>CCL_GGAL</td>\n",
              "      <td>NaN</td>\n",
              "    </tr>\n",
              "    <tr>\n",
              "      <th>507</th>\n",
              "      <td>2023-06-21</td>\n",
              "      <td>CCL_GGAL</td>\n",
              "      <td>508.960703</td>\n",
              "    </tr>\n",
              "    <tr>\n",
              "      <th>508</th>\n",
              "      <td>2023-06-22</td>\n",
              "      <td>CCL_GGAL</td>\n",
              "      <td>511.000015</td>\n",
              "    </tr>\n",
              "    <tr>\n",
              "      <th>509</th>\n",
              "      <td>2023-06-23</td>\n",
              "      <td>CCL_GGAL</td>\n",
              "      <td>516.030983</td>\n",
              "    </tr>\n",
              "  </tbody>\n",
              "</table>\n",
              "<p>510 rows × 3 columns</p>\n",
              "</div>\n",
              "      <button class=\"colab-df-convert\" onclick=\"convertToInteractive('df-e93becde-b029-4c95-b69f-4c6dc705599f')\"\n",
              "              title=\"Convert this dataframe to an interactive table.\"\n",
              "              style=\"display:none;\">\n",
              "        \n",
              "  <svg xmlns=\"http://www.w3.org/2000/svg\" height=\"24px\"viewBox=\"0 0 24 24\"\n",
              "       width=\"24px\">\n",
              "    <path d=\"M0 0h24v24H0V0z\" fill=\"none\"/>\n",
              "    <path d=\"M18.56 5.44l.94 2.06.94-2.06 2.06-.94-2.06-.94-.94-2.06-.94 2.06-2.06.94zm-11 1L8.5 8.5l.94-2.06 2.06-.94-2.06-.94L8.5 2.5l-.94 2.06-2.06.94zm10 10l.94 2.06.94-2.06 2.06-.94-2.06-.94-.94-2.06-.94 2.06-2.06.94z\"/><path d=\"M17.41 7.96l-1.37-1.37c-.4-.4-.92-.59-1.43-.59-.52 0-1.04.2-1.43.59L10.3 9.45l-7.72 7.72c-.78.78-.78 2.05 0 2.83L4 21.41c.39.39.9.59 1.41.59.51 0 1.02-.2 1.41-.59l7.78-7.78 2.81-2.81c.8-.78.8-2.07 0-2.86zM5.41 20L4 18.59l7.72-7.72 1.47 1.35L5.41 20z\"/>\n",
              "  </svg>\n",
              "      </button>\n",
              "      \n",
              "  <style>\n",
              "    .colab-df-container {\n",
              "      display:flex;\n",
              "      flex-wrap:wrap;\n",
              "      gap: 12px;\n",
              "    }\n",
              "\n",
              "    .colab-df-convert {\n",
              "      background-color: #E8F0FE;\n",
              "      border: none;\n",
              "      border-radius: 50%;\n",
              "      cursor: pointer;\n",
              "      display: none;\n",
              "      fill: #1967D2;\n",
              "      height: 32px;\n",
              "      padding: 0 0 0 0;\n",
              "      width: 32px;\n",
              "    }\n",
              "\n",
              "    .colab-df-convert:hover {\n",
              "      background-color: #E2EBFA;\n",
              "      box-shadow: 0px 1px 2px rgba(60, 64, 67, 0.3), 0px 1px 3px 1px rgba(60, 64, 67, 0.15);\n",
              "      fill: #174EA6;\n",
              "    }\n",
              "\n",
              "    [theme=dark] .colab-df-convert {\n",
              "      background-color: #3B4455;\n",
              "      fill: #D2E3FC;\n",
              "    }\n",
              "\n",
              "    [theme=dark] .colab-df-convert:hover {\n",
              "      background-color: #434B5C;\n",
              "      box-shadow: 0px 1px 3px 1px rgba(0, 0, 0, 0.15);\n",
              "      filter: drop-shadow(0px 1px 2px rgba(0, 0, 0, 0.3));\n",
              "      fill: #FFFFFF;\n",
              "    }\n",
              "  </style>\n",
              "\n",
              "      <script>\n",
              "        const buttonEl =\n",
              "          document.querySelector('#df-e93becde-b029-4c95-b69f-4c6dc705599f button.colab-df-convert');\n",
              "        buttonEl.style.display =\n",
              "          google.colab.kernel.accessAllowed ? 'block' : 'none';\n",
              "\n",
              "        async function convertToInteractive(key) {\n",
              "          const element = document.querySelector('#df-e93becde-b029-4c95-b69f-4c6dc705599f');\n",
              "          const dataTable =\n",
              "            await google.colab.kernel.invokeFunction('convertToInteractive',\n",
              "                                                     [key], {});\n",
              "          if (!dataTable) return;\n",
              "\n",
              "          const docLinkHtml = 'Like what you see? Visit the ' +\n",
              "            '<a target=\"_blank\" href=https://colab.research.google.com/notebooks/data_table.ipynb>data table notebook</a>'\n",
              "            + ' to learn more about interactive tables.';\n",
              "          element.innerHTML = '';\n",
              "          dataTable['output_type'] = 'display_data';\n",
              "          await google.colab.output.renderOutput(dataTable, element);\n",
              "          const docLink = document.createElement('div');\n",
              "          docLink.innerHTML = docLinkHtml;\n",
              "          element.appendChild(docLink);\n",
              "        }\n",
              "      </script>\n",
              "    </div>\n",
              "  </div>\n",
              "  "
            ]
          },
          "metadata": {},
          "execution_count": 12
        }
      ]
    },
    {
      "cell_type": "code",
      "source": [
        "# Plot\n",
        "plt.figure(figsize=(10, 7))\n",
        "sns.lineplot(x='Date', y='CCL_Rate', hue='Instrument', data=df_melted)\n",
        "plt.show()"
      ],
      "metadata": {
        "colab": {
          "base_uri": "https://localhost:8080/",
          "height": 459
        },
        "id": "02UwTKuG9Xwq",
        "outputId": "5370b137-b75a-4beb-d55d-60e541b11402"
      },
      "execution_count": 13,
      "outputs": [
        {
          "output_type": "display_data",
          "data": {
            "text/plain": [
              "<Figure size 1000x700 with 1 Axes>"
            ],
            "image/png": "[encoded data removed]"
          },
          "metadata": {}
        }
      ]
    },
    {
      "cell_type": "markdown",
      "source": [
        "# Once Cycle"
      ],
      "metadata": {
        "id": "duQPN3k7PyAI"
      }
    },
    {
      "cell_type": "code",
      "source": [
        "# Example walking through one round-trip transaction"
      ],
      "metadata": {
        "id": "YygnljdgRf51"
      },
      "execution_count": 14,
      "outputs": []
    },
    {
      "cell_type": "code",
      "source": [
        "ticker_high"
      ],
      "metadata": {
        "colab": {
          "base_uri": "https://localhost:8080/",
          "height": 36
        },
        "id": "-ExLizyCR1OF",
        "outputId": "3a347258-1872-40ea-b22b-629aed2baca2"
      },
      "execution_count": 15,
      "outputs": [
        {
          "output_type": "execute_result",
          "data": {
            "text/plain": [
              "'GGAL'"
            ],
            "application/vnd.google.colaboratory.intrinsic+json": {
              "type": "string"
            }
          },
          "metadata": {},
          "execution_count": 15
        }
      ]
    },
    {
      "cell_type": "code",
      "source": [
        "ticker_low"
      ],
      "metadata": {
        "colab": {
          "base_uri": "https://localhost:8080/",
          "height": 36
        },
        "id": "ovJCmnfvR4CP",
        "outputId": "a8bf1db6-65d3-486e-f52b-8267abaad5c6"
      },
      "execution_count": 16,
      "outputs": [
        {
          "output_type": "execute_result",
          "data": {
            "text/plain": [
              "'EDN'"
            ],
            "application/vnd.google.colaboratory.intrinsic+json": {
              "type": "string"
            }
          },
          "metadata": {},
          "execution_count": 16
        }
      ]
    },
    {
      "cell_type": "code",
      "source": [
        "# Purchase High ADR in NYSE\n",
        "##TODO:determine transaction costs\n",
        "adr_high = df_adr_high.iloc[-1, :]['Close_ADR']\n",
        "usd_1 = -adr_high\n",
        "usd_1"
      ],
      "metadata": {
        "colab": {
          "base_uri": "https://localhost:8080/"
        },
        "id": "C4T3d_MmPPv5",
        "outputId": "90a911c9-3a7d-4651-b701-356bff08f9fd"
      },
      "execution_count": 17,
      "outputs": [
        {
          "output_type": "execute_result",
          "data": {
            "text/plain": [
              "-16.780000686645508"
            ]
          },
          "metadata": {},
          "execution_count": 17
        }
      ]
    },
    {
      "cell_type": "code",
      "source": [
        "# Check ADR High Multiplier\n",
        "##American Depositary Shares, or ADSs, evidenced by American Depositary Receipts, each representing X Class B Common Shares\n",
        "adr_mult_high"
      ],
      "metadata": {
        "colab": {
          "base_uri": "https://localhost:8080/"
        },
        "id": "lli0wkEzSXnx",
        "outputId": "dd8c5335-c3ec-4604-8968-017e13aa167e"
      },
      "execution_count": 18,
      "outputs": [
        {
          "output_type": "execute_result",
          "data": {
            "text/plain": [
              "10"
            ]
          },
          "metadata": {},
          "execution_count": 18
        }
      ]
    },
    {
      "cell_type": "code",
      "source": [
        "# Check ADR High Stock Price\n",
        "stock_high = df_stock_high.iloc[-1, :]['Close_Stock']\n",
        "stock_high"
      ],
      "metadata": {
        "colab": {
          "base_uri": "https://localhost:8080/"
        },
        "id": "oUvqCEGMR_Qw",
        "outputId": "5bb0f37e-43f8-46ac-b2be-77a07be394b7"
      },
      "execution_count": 19,
      "outputs": [
        {
          "output_type": "execute_result",
          "data": {
            "text/plain": [
              "865.9000244140625"
            ]
          },
          "metadata": {},
          "execution_count": 19
        }
      ]
    },
    {
      "cell_type": "code",
      "source": [
        "# Transfer ADR(NYSE) to Stock(Merval) and liquidate into pesos\n",
        "##TODO:determine transfer and liquidation costs\n",
        "ars_1 = adr_mult_high * stock_high\n",
        "ars_1"
      ],
      "metadata": {
        "colab": {
          "base_uri": "https://localhost:8080/"
        },
        "id": "MkaWCJQPRF2E",
        "outputId": "34c4819b-1d7a-4054-eded-1b591168b9ca"
      },
      "execution_count": 20,
      "outputs": [
        {
          "output_type": "execute_result",
          "data": {
            "text/plain": [
              "8659.000244140625"
            ]
          },
          "metadata": {},
          "execution_count": 20
        }
      ]
    },
    {
      "cell_type": "code",
      "source": [
        "# Check Stock Low Price\n",
        "stock_low = df_stock_low.iloc[-1, :]['Close_Stock']\n",
        "stock_low"
      ],
      "metadata": {
        "colab": {
          "base_uri": "https://localhost:8080/"
        },
        "id": "2Ds1dkB1Tibc",
        "outputId": "79a799dc-e514-4d69-efce-c9002cc26b80"
      },
      "execution_count": 21,
      "outputs": [
        {
          "output_type": "execute_result",
          "data": {
            "text/plain": [
              "366.79998779296875"
            ]
          },
          "metadata": {},
          "execution_count": 21
        }
      ]
    },
    {
      "cell_type": "code",
      "source": [
        "# Check Stock Low ADR Multipler\n",
        "adr_mult_low"
      ],
      "metadata": {
        "colab": {
          "base_uri": "https://localhost:8080/"
        },
        "id": "T0DYdGW5Trci",
        "outputId": "e9097795-37ec-4f1a-d93b-5e03eec8c6f3"
      },
      "execution_count": 22,
      "outputs": [
        {
          "output_type": "execute_result",
          "data": {
            "text/plain": [
              "20"
            ]
          },
          "metadata": {},
          "execution_count": 22
        }
      ]
    },
    {
      "cell_type": "code",
      "source": [
        "# Purchase Stock(Merval) x ADR Multipler\n",
        "ars_2 = stock_low * adr_mult_low\n",
        "ars_2"
      ],
      "metadata": {
        "colab": {
          "base_uri": "https://localhost:8080/"
        },
        "id": "Yui2AyvgT8Y9",
        "outputId": "ea840907-5dc0-49c7-8f68-eff5568fed20"
      },
      "execution_count": 23,
      "outputs": [
        {
          "output_type": "execute_result",
          "data": {
            "text/plain": [
              "7335.999755859375"
            ]
          },
          "metadata": {},
          "execution_count": 23
        }
      ]
    },
    {
      "cell_type": "code",
      "source": [
        "# Calculate AR$ Balance\n",
        "ars_balance = ars_1 - ars_2\n",
        "ars_balance"
      ],
      "metadata": {
        "colab": {
          "base_uri": "https://localhost:8080/"
        },
        "id": "YciKc2BCUd53",
        "outputId": "9b7b804f-f552-45df-c19b-19a9aa564d18"
      },
      "execution_count": 24,
      "outputs": [
        {
          "output_type": "execute_result",
          "data": {
            "text/plain": [
              "1323.00048828125"
            ]
          },
          "metadata": {},
          "execution_count": 24
        }
      ]
    },
    {
      "cell_type": "code",
      "source": [
        "# Check ADR Low Price\n",
        "adr_low = df_adr_low.iloc[-1,:]['Close_ADR']\n",
        "adr_low"
      ],
      "metadata": {
        "colab": {
          "base_uri": "https://localhost:8080/"
        },
        "id": "v-hOwxK_VDqs",
        "outputId": "bf76ff5a-124f-4e55-bba8-810dfdcdce42"
      },
      "execution_count": 25,
      "outputs": [
        {
          "output_type": "execute_result",
          "data": {
            "text/plain": [
              "14.649999618530273"
            ]
          },
          "metadata": {},
          "execution_count": 25
        }
      ]
    },
    {
      "cell_type": "code",
      "source": [
        "# Convert from Stock(Merval) to ADR(NYSE) and liquidate into dollars\n",
        "##TODO: conversaion and liquidation costs\n",
        "usd_2 = adr_low\n",
        "usd_2"
      ],
      "metadata": {
        "colab": {
          "base_uri": "https://localhost:8080/"
        },
        "id": "Xx2oXqIQSNJC",
        "outputId": "b3103250-c7eb-4763-fddd-476aa3d68caa"
      },
      "execution_count": 26,
      "outputs": [
        {
          "output_type": "execute_result",
          "data": {
            "text/plain": [
              "14.649999618530273"
            ]
          },
          "metadata": {},
          "execution_count": 26
        }
      ]
    },
    {
      "cell_type": "code",
      "source": [
        "# Check USD Balance\n",
        "usd_balance = usd_1 + usd_2\n",
        "usd_balance"
      ],
      "metadata": {
        "colab": {
          "base_uri": "https://localhost:8080/"
        },
        "id": "nbpXvN6AVguh",
        "outputId": "c828bee3-9b26-4ee5-dd81-5b6c51a0dcb7"
      },
      "execution_count": 27,
      "outputs": [
        {
          "output_type": "execute_result",
          "data": {
            "text/plain": [
              "-2.1300010681152344"
            ]
          },
          "metadata": {},
          "execution_count": 27
        }
      ]
    },
    {
      "cell_type": "code",
      "source": [
        "# Check ARS Balance\n",
        "ars_balance"
      ],
      "metadata": {
        "colab": {
          "base_uri": "https://localhost:8080/"
        },
        "id": "C0sdk7xOWEyf",
        "outputId": "473f9e09-5cf9-4da1-cb7a-edddbae022c5"
      },
      "execution_count": 28,
      "outputs": [
        {
          "output_type": "execute_result",
          "data": {
            "text/plain": [
              "1323.00048828125"
            ]
          },
          "metadata": {},
          "execution_count": 28
        }
      ]
    },
    {
      "cell_type": "code",
      "source": [
        "ars_balance/usd_balance"
      ],
      "metadata": {
        "colab": {
          "base_uri": "https://localhost:8080/"
        },
        "id": "GuMJM9UPWUVW",
        "outputId": "0d025d98-910d-4b10-9d1b-9fb68040093a"
      },
      "execution_count": 29,
      "outputs": [
        {
          "output_type": "execute_result",
          "data": {
            "text/plain": [
              "-621.1266783316349"
            ]
          },
          "metadata": {},
          "execution_count": 29
        }
      ]
    },
    {
      "cell_type": "markdown",
      "source": [
        "# Index"
      ],
      "metadata": {
        "id": "azODTIr9YzG3"
      }
    },
    {
      "cell_type": "code",
      "source": [
        "companies = [\n",
        "    #'BBAR',\n",
        "    #'BMA',\n",
        "    'CEPU',\n",
        "    'CRESY',\n",
        "    'EDN',\n",
        "    'GGAL',\n",
        "    'SUPV',\n",
        "    'IRS',\n",
        "    'LOMA',\n",
        "    'PAM',\n",
        "    'TEO',\n",
        "    'TS',\n",
        "    'TX',\n",
        "    'TGS']\n",
        "\n",
        "multipliers = {\n",
        "    #'BBAR': 3,  #https://www.sec.gov/ix?doc=/Archives/edgar/data/0000913059/000119312523118482/d264052d20f.htm\n",
        "    #'BMA': 1,   #https://www.sec.gov/ix?doc=/Archives/edgar/data/0001347426/000119312523126614/d266368d20f.htm\n",
        "    'CEPU': 10, #https://www.sec.gov/ix?doc=/Archives/edgar/data/0001717161/000165495423005229/cepu_20f.htm\n",
        "    'CRESY': 1, #https://www.sec.gov/ix?doc=/Archives/edgar/data/0001034957/000165495422014335/abc_20f.htm\n",
        "    'EDN': 20,  #https://www.sec.gov/ix?doc=/Archives/edgar/data/0001395213/000129281423001639/edndorm20f_2022.htm\n",
        "    'GGAL': 10, #https://www.sec.gov/ix?doc=/Archives/edgar/data/0001114700/000119312522116900/d248187d20f.htm\n",
        "    'SUPV': 5,  #https://www.sec.gov/ix?doc=/Archives/edgar/data/0001517399/000155837023006859/tmb-20221231x20f.htm\n",
        "    'IRS': 10,  #https://www.sec.gov/ix?doc=/Archives/edgar/data/0000933267/000165495422014187/irsa_20f.htm\n",
        "    'LOMA': 5,  #https://www.sec.gov/ix?doc=/Archives/edgar/data/0001711375/000171137523000005/loma-20221231.htm\n",
        "    'PAM': 25,  #https://www.sec.gov/ix?doc=/Archives/edgar/data/0001469395/000129281423001936/pamform20f_2022.htm\n",
        "    'TEO': 5,   #https://www.sec.gov/ix?doc=/Archives/edgar/data/0000932470/000110465923034541/teo-20221231x20f.htm\n",
        "    'TS': 1,    #https://www.sec.gov/ix?doc=/Archives/edgar/data/0001190723/000155485523000209/ts-20221231.htm\n",
        "    'TX': 1,    #https://www.sec.gov/ix?doc=/Archives/edgar/data/0001342874/000134287423000021/tx-20221231.htm\n",
        "    'TGS': 1   #https://www.sec.gov/ix?doc=/Archives/edgar/data/0000931427/000114036123020256/brhc20051753_20f.htm\n",
        "    }"
      ],
      "metadata": {
        "id": "UN7QpVk3eIXn"
      },
      "execution_count": 42,
      "outputs": []
    },
    {
      "cell_type": "code",
      "source": [
        "data_dict = {}\n",
        "one_month_ago = (pd.Timestamp.today() - pd.DateOffset(months=1)).strftime('%Y-%m-%d')\n",
        "now = pd.Timestamp.today().strftime('%Y-%m-%d')"
      ],
      "metadata": {
        "id": "_tJ6TSP5W1M8"
      },
      "execution_count": 43,
      "outputs": []
    },
    {
      "cell_type": "code",
      "source": [
        "for company in companies:\n",
        "    try:\n",
        "        # Get the data for company and company.BA\n",
        "        data_ADR = yf.download(company, start=one_month_ago, end=now)\n",
        "        data_local = yf.download(f'{company}.BA', start=one_month_ago, end=now)\n",
        "\n",
        "        # Check if the data is valid\n",
        "        if data_ADR.empty or data_local.empty:\n",
        "            print(f\"Data for {company} or {company}.BA is empty. Skipping this ticker.\")\n",
        "            continue\n",
        "\n",
        "        # Merge the dataframes\n",
        "        data_ADR = data_ADR.rename(columns={'Close': f'Close_{company}'})\n",
        "        data_local = data_local.rename(columns={'Close': f'Close_{company}.BA'})\n",
        "        data = pd.concat([data_ADR[f'Close_{company}'], data_local[f'Close_{company}.BA']], axis=1)\n",
        "\n",
        "        # Get the specific multiplier for the company from the dictionary\n",
        "        multiplier = multipliers.get(company, 1)\n",
        "\n",
        "        # Calculate company.BA / company * multiplier and add it to the dataframe\n",
        "        data[f'Ratio_{company}'] = (data[f'Close_{company}.BA'] / data[f'Close_{company}']) * multiplier\n",
        "\n",
        "        # Store the dataframe in the dictionary\n",
        "        data_dict[company] = data\n",
        "    except Exception as e:\n",
        "        print(f\"An exception occurred while processing {company}: {str(e)}\")\n",
        "        continue"
      ],
      "metadata": {
        "colab": {
          "base_uri": "https://localhost:8080/"
        },
        "id": "71VBG0Zsadsd",
        "outputId": "dd1803df-bd02-4539-98c6-1fed33d337de"
      },
      "execution_count": 44,
      "outputs": [
        {
          "output_type": "stream",
          "name": "stdout",
          "text": [
            "[*********************100%***********************]  1 of 1 completed\n",
            "[*********************100%***********************]  1 of 1 completed\n",
            "[*********************100%***********************]  1 of 1 completed\n",
            "[*********************100%***********************]  1 of 1 completed"
          ]
        },
        {
          "output_type": "stream",
          "name": "stderr",
          "text": [
            "ERROR \n",
            "1 Failed download:\n",
            "ERROR:yfinance:\n",
            "1 Failed download:\n",
            "ERROR ['CRESY.BA']: Exception('CRESY.BA: No timezone found, symbol may be delisted')\n",
            "ERROR:yfinance:['CRESY.BA']: Exception('CRESY.BA: No timezone found, symbol may be delisted')\n"
          ]
        },
        {
          "output_type": "stream",
          "name": "stdout",
          "text": [
            "\n",
            "Data for CRESY or CRESY.BA is empty. Skipping this ticker.\n",
            "[*********************100%***********************]  1 of 1 completed\n",
            "[*********************100%***********************]  1 of 1 completed\n",
            "[*********************100%***********************]  1 of 1 completed\n",
            "[*********************100%***********************]  1 of 1 completed\n",
            "[*********************100%***********************]  1 of 1 completed\n",
            "[*********************100%***********************]  1 of 1 completed\n",
            "[*********************100%***********************]  1 of 1 completed\n",
            "[*********************100%***********************]  1 of 1 completed"
          ]
        },
        {
          "output_type": "stream",
          "name": "stderr",
          "text": [
            "ERROR \n",
            "1 Failed download:\n",
            "ERROR:yfinance:\n",
            "1 Failed download:\n",
            "ERROR ['IRS.BA']: Exception('IRS.BA: No timezone found, symbol may be delisted')\n",
            "ERROR:yfinance:['IRS.BA']: Exception('IRS.BA: No timezone found, symbol may be delisted')\n"
          ]
        },
        {
          "output_type": "stream",
          "name": "stdout",
          "text": [
            "\n",
            "Data for IRS or IRS.BA is empty. Skipping this ticker.\n",
            "[*********************100%***********************]  1 of 1 completed\n",
            "[*********************100%***********************]  1 of 1 completed\n",
            "[*********************100%***********************]  1 of 1 completed\n",
            "[*********************100%***********************]  1 of 1 completed"
          ]
        },
        {
          "output_type": "stream",
          "name": "stderr",
          "text": [
            "ERROR \n",
            "1 Failed download:\n",
            "ERROR:yfinance:\n",
            "1 Failed download:\n",
            "ERROR ['PAM.BA']: Exception('PAM.BA: No timezone found, symbol may be delisted')\n",
            "ERROR:yfinance:['PAM.BA']: Exception('PAM.BA: No timezone found, symbol may be delisted')\n"
          ]
        },
        {
          "output_type": "stream",
          "name": "stdout",
          "text": [
            "\n",
            "Data for PAM or PAM.BA is empty. Skipping this ticker.\n",
            "[*********************100%***********************]  1 of 1 completed\n",
            "[*********************100%***********************]  1 of 1 completed"
          ]
        },
        {
          "output_type": "stream",
          "name": "stderr",
          "text": [
            "ERROR \n",
            "1 Failed download:\n",
            "ERROR:yfinance:\n",
            "1 Failed download:\n",
            "ERROR ['TEO.BA']: Exception('TEO.BA: No timezone found, symbol may be delisted')\n",
            "ERROR:yfinance:['TEO.BA']: Exception('TEO.BA: No timezone found, symbol may be delisted')\n"
          ]
        },
        {
          "output_type": "stream",
          "name": "stdout",
          "text": [
            "\n",
            "Data for TEO or TEO.BA is empty. Skipping this ticker.\n",
            "[*********************100%***********************]  1 of 1 completed\n",
            "[*********************100%***********************]  1 of 1 completed"
          ]
        },
        {
          "output_type": "stream",
          "name": "stderr",
          "text": [
            "ERROR \n",
            "1 Failed download:\n",
            "ERROR:yfinance:\n",
            "1 Failed download:\n",
            "ERROR ['TS.BA']: Exception('TS.BA: No timezone found, symbol may be delisted')\n",
            "ERROR:yfinance:['TS.BA']: Exception('TS.BA: No timezone found, symbol may be delisted')\n"
          ]
        },
        {
          "output_type": "stream",
          "name": "stdout",
          "text": [
            "\n",
            "Data for TS or TS.BA is empty. Skipping this ticker.\n",
            "[*********************100%***********************]  1 of 1 completed\n",
            "[*********************100%***********************]  1 of 1 completed"
          ]
        },
        {
          "output_type": "stream",
          "name": "stderr",
          "text": [
            "ERROR \n",
            "1 Failed download:\n",
            "ERROR:yfinance:\n",
            "1 Failed download:\n",
            "ERROR ['TX.BA']: Exception('TX.BA: No timezone found, symbol may be delisted')\n",
            "ERROR:yfinance:['TX.BA']: Exception('TX.BA: No timezone found, symbol may be delisted')\n"
          ]
        },
        {
          "output_type": "stream",
          "name": "stdout",
          "text": [
            "\n",
            "Data for TX or TX.BA is empty. Skipping this ticker.\n",
            "[*********************100%***********************]  1 of 1 completed\n",
            "[*********************100%***********************]  1 of 1 completed"
          ]
        },
        {
          "output_type": "stream",
          "name": "stderr",
          "text": [
            "ERROR \n",
            "1 Failed download:\n",
            "ERROR:yfinance:\n",
            "1 Failed download:\n",
            "ERROR ['TGS.BA']: Exception('TGS.BA: No timezone found, symbol may be delisted')\n",
            "ERROR:yfinance:['TGS.BA']: Exception('TGS.BA: No timezone found, symbol may be delisted')\n"
          ]
        },
        {
          "output_type": "stream",
          "name": "stdout",
          "text": [
            "\n",
            "Data for TGS or TGS.BA is empty. Skipping this ticker.\n"
          ]
        }
      ]
    },
    {
      "cell_type": "code",
      "source": [
        "# Create a dataframe for composite index\n",
        "composite_index = pd.DataFrame(index=data_dict[list(data_dict.keys())[0]].index)\n",
        "composite_index['composite_ratio'] = np.nan\n",
        "\n",
        "for company in data_dict:\n",
        "    composite_index['composite_ratio'] += data_dict[company][f'Ratio_{company}']\n",
        "\n",
        "composite_index['composite_ratio'] /= len(companies)"
      ],
      "metadata": {
        "id": "awsJ4UvlePLP"
      },
      "execution_count": 45,
      "outputs": []
    },
    {
      "cell_type": "code",
      "source": [
        "# Create a plot\n",
        "plt.figure(figsize=(10,5))\n",
        "for company in companies:\n",
        "    if company in data_dict:\n",
        "        plt.plot(data_dict[company].index, data_dict[company][f'Ratio_{company}'], label=company)\n",
        "plt.plot(composite_index.index, composite_index['composite_ratio'], label='Composite', color='black', linewidth=2)\n",
        "plt.legend()\n",
        "plt.title('Ratios and Composite Index Over the Last Month')\n",
        "plt.xlabel('Date')\n",
        "plt.ylabel('Ratio Value')\n",
        "plt.show()"
      ],
      "metadata": {
        "colab": {
          "base_uri": "https://localhost:8080/",
          "height": 365
        },
        "id": "TClB0KbSeSgy",
        "outputId": "96ce93c7-cc3b-4e77-b46e-fba70d41c306"
      },
      "execution_count": 46,
      "outputs": [
        {
          "output_type": "display_data",
          "data": {
            "text/plain": [
              "<Figure size 1000x500 with 1 Axes>"
            ],
            "image/png": "[encoded data removed]"
          },
          "metadata": {}
        }
      ]
    },
    {
      "cell_type": "markdown",
      "source": [
        "# Arbitrage Scanner"
      ],
      "metadata": {
        "id": "1T53w7Oukf1T"
      }
    },
    {
      "cell_type": "code",
      "source": [
        "import yfinance as yf\n",
        "import pandas as pd\n",
        "import matplotlib.pyplot as plt\n",
        "import numpy as np\n",
        "\n",
        "# Define list of companies and their multipliers\n",
        "companies = ['CEPU', 'CRESY', 'EDN', 'GGAL', 'SUPV', 'IRS', 'LOMA', 'PAM', 'TEO', 'TS', 'TX', 'TGS']\n",
        "multipliers = {'CEPU': 10, 'CRESY': 1, 'EDN': 20, 'GGAL': 10, 'SUPV': 5, 'IRS': 10, 'LOMA': 5, 'PAM': 25, 'TEO': 5, 'TS': 1, 'TX': 1, 'TGS': 1}\n",
        "\n",
        "# Initialize data_dict to store data for each company\n",
        "data_dict = {}\n",
        "\n",
        "# Define start and end dates\n",
        "one_month_ago = (pd.Timestamp.today() - pd.DateOffset(months=1)).strftime('%Y-%m-%d')\n",
        "now = pd.Timestamp.today().strftime('%Y-%m-%d')\n",
        "\n",
        "for company in companies:\n",
        "    # Download data for each company\n",
        "    data_ADR = yf.download(company, start=one_month_ago, end=now)\n",
        "    data_local = yf.download(f'{company}.BA', start=one_month_ago, end=now)\n",
        "\n",
        "    if data_ADR.empty or data_local.empty:\n",
        "        print(f\"Data for {company} or {company}.BA is empty. Skipping this ticker.\")\n",
        "        continue\n",
        "\n",
        "    data_ADR = data_ADR.rename(columns={'Close': f'Close_{company}'})\n",
        "    data_local = data_local.rename(columns={'Close': f'Close_{company}.BA'})\n",
        "    data = pd.concat([data_ADR[f'Close_{company}'], data_local[f'Close_{company}.BA']], axis=1)\n",
        "    multiplier = multipliers.get(company, 1)\n",
        "\n",
        "    # Calculate company.BA / company * multiplier and add it to the dataframe\n",
        "    data[f'Ratio_{company}'] = (data[f'Close_{company}.BA'] / data[f'Close_{company}']) * multiplier\n",
        "    data_dict[company] = data\n",
        "\n",
        "# Create a dataframe for composite index\n",
        "composite_index = pd.DataFrame(index=data_dict[list(data_dict.keys())[0]].index)\n",
        "composite_index['composite_ratio'] = np.nan\n",
        "\n",
        "for company in data_dict:\n",
        "    composite_index['composite_ratio'] += data_dict[company][f'Ratio_{company}']\n",
        "\n",
        "composite_index['composite_ratio'] /= len(data_dict)\n",
        "\n",
        "# Begin cycle for index of stocks\n",
        "usd_1 = 0\n",
        "ars_1 = 0\n",
        "\n",
        "for company in companies:\n",
        "    if company in data_dict:\n",
        "        adr_high = data_dict[company].iloc[-1][f'Close_{company}']\n",
        "        stock_high = data_dict[company].iloc[-1][f'Close_{company}.BA']\n",
        "        mult_high = multipliers[company]\n",
        "\n",
        "        usd_1 -= adr_high\n",
        "        ars_1 += mult_high * stock_high\n",
        "\n",
        "usd_2 = ars_1 / composite_index.iloc[-1]['composite_ratio']\n",
        "usd_balance = usd_1 + usd_2\n",
        "\n",
        "# Display results\n",
        "print(f\"Initial USD spent: {usd_1}\")\n",
        "print(f\"Final ARS balance: {ars_1}\")\n",
        "print(f\"Final USD balance: {usd_balance}\")"
      ],
      "metadata": {
        "colab": {
          "base_uri": "https://localhost:8080/"
        },
        "id": "H_dfD5rZeTgb",
        "outputId": "78bf404b-f3c0-4367-ad2d-b425836f96e8"
      },
      "execution_count": 47,
      "outputs": [
        {
          "output_type": "stream",
          "name": "stdout",
          "text": [
            "[*********************100%***********************]  1 of 1 completed\n",
            "[*********************100%***********************]  1 of 1 completed\n",
            "[*********************100%***********************]  1 of 1 completed\n",
            "[*********************100%***********************]  1 of 1 completed"
          ]
        },
        {
          "output_type": "stream",
          "name": "stderr",
          "text": [
            "ERROR \n",
            "1 Failed download:\n",
            "ERROR:yfinance:\n",
            "1 Failed download:\n",
            "ERROR ['CRESY.BA']: Exception('CRESY.BA: No timezone found, symbol may be delisted')\n",
            "ERROR:yfinance:['CRESY.BA']: Exception('CRESY.BA: No timezone found, symbol may be delisted')\n"
          ]
        },
        {
          "output_type": "stream",
          "name": "stdout",
          "text": [
            "\n",
            "Data for CRESY or CRESY.BA is empty. Skipping this ticker.\n",
            "[*********************100%***********************]  1 of 1 completed\n",
            "[*********************100%***********************]  1 of 1 completed\n",
            "[*********************100%***********************]  1 of 1 completed\n",
            "[*********************100%***********************]  1 of 1 completed\n",
            "[*********************100%***********************]  1 of 1 completed\n",
            "[*********************100%***********************]  1 of 1 completed\n",
            "[*********************100%***********************]  1 of 1 completed\n",
            "[*********************100%***********************]  1 of 1 completed"
          ]
        },
        {
          "output_type": "stream",
          "name": "stderr",
          "text": [
            "ERROR \n",
            "1 Failed download:\n",
            "ERROR:yfinance:\n",
            "1 Failed download:\n",
            "ERROR ['IRS.BA']: Exception('IRS.BA: No timezone found, symbol may be delisted')\n",
            "ERROR:yfinance:['IRS.BA']: Exception('IRS.BA: No timezone found, symbol may be delisted')\n"
          ]
        },
        {
          "output_type": "stream",
          "name": "stdout",
          "text": [
            "\n",
            "Data for IRS or IRS.BA is empty. Skipping this ticker.\n",
            "[*********************100%***********************]  1 of 1 completed\n",
            "[*********************100%***********************]  1 of 1 completed\n",
            "[*********************100%***********************]  1 of 1 completed\n",
            "[*********************100%***********************]  1 of 1 completed"
          ]
        },
        {
          "output_type": "stream",
          "name": "stderr",
          "text": [
            "ERROR \n",
            "1 Failed download:\n",
            "ERROR:yfinance:\n",
            "1 Failed download:\n",
            "ERROR ['PAM.BA']: Exception('PAM.BA: No timezone found, symbol may be delisted')\n",
            "ERROR:yfinance:['PAM.BA']: Exception('PAM.BA: No timezone found, symbol may be delisted')\n"
          ]
        },
        {
          "output_type": "stream",
          "name": "stdout",
          "text": [
            "\n",
            "Data for PAM or PAM.BA is empty. Skipping this ticker.\n",
            "[*********************100%***********************]  1 of 1 completed\n",
            "[*********************100%***********************]  1 of 1 completed"
          ]
        },
        {
          "output_type": "stream",
          "name": "stderr",
          "text": [
            "ERROR \n",
            "1 Failed download:\n",
            "ERROR:yfinance:\n",
            "1 Failed download:\n",
            "ERROR ['TEO.BA']: Exception('TEO.BA: No timezone found, symbol may be delisted')\n",
            "ERROR:yfinance:['TEO.BA']: Exception('TEO.BA: No timezone found, symbol may be delisted')\n"
          ]
        },
        {
          "output_type": "stream",
          "name": "stdout",
          "text": [
            "\n",
            "Data for TEO or TEO.BA is empty. Skipping this ticker.\n",
            "[*********************100%***********************]  1 of 1 completed\n",
            "[*********************100%***********************]  1 of 1 completed"
          ]
        },
        {
          "output_type": "stream",
          "name": "stderr",
          "text": [
            "ERROR \n",
            "1 Failed download:\n",
            "ERROR:yfinance:\n",
            "1 Failed download:\n",
            "ERROR ['TS.BA']: Exception('TS.BA: No timezone found, symbol may be delisted')\n",
            "ERROR:yfinance:['TS.BA']: Exception('TS.BA: No timezone found, symbol may be delisted')\n"
          ]
        },
        {
          "output_type": "stream",
          "name": "stdout",
          "text": [
            "\n",
            "Data for TS or TS.BA is empty. Skipping this ticker.\n",
            "[*********************100%***********************]  1 of 1 completed\n",
            "[*********************100%***********************]  1 of 1 completed"
          ]
        },
        {
          "output_type": "stream",
          "name": "stderr",
          "text": [
            "ERROR \n",
            "1 Failed download:\n",
            "ERROR:yfinance:\n",
            "1 Failed download:\n",
            "ERROR ['TX.BA']: Exception('TX.BA: No timezone found, symbol may be delisted')\n",
            "ERROR:yfinance:['TX.BA']: Exception('TX.BA: No timezone found, symbol may be delisted')\n"
          ]
        },
        {
          "output_type": "stream",
          "name": "stdout",
          "text": [
            "\n",
            "Data for TX or TX.BA is empty. Skipping this ticker.\n",
            "[*********************100%***********************]  1 of 1 completed\n",
            "[*********************100%***********************]  1 of 1 completed"
          ]
        },
        {
          "output_type": "stream",
          "name": "stderr",
          "text": [
            "ERROR \n",
            "1 Failed download:\n"
          ]
        },
        {
          "output_type": "stream",
          "name": "stdout",
          "text": [
            "\n"
          ]
        },
        {
          "output_type": "stream",
          "name": "stderr",
          "text": [
            "ERROR:yfinance:\n",
            "1 Failed download:\n",
            "ERROR ['TGS.BA']: Exception('TGS.BA: No timezone found, symbol may be delisted')\n",
            "ERROR:yfinance:['TGS.BA']: Exception('TGS.BA: No timezone found, symbol may be delisted')\n"
          ]
        },
        {
          "output_type": "stream",
          "name": "stdout",
          "text": [
            "Data for TGS or TGS.BA is empty. Skipping this ticker.\n",
            "Initial USD spent: -47.950000286102295\n",
            "Final ARS balance: 24580.249938964844\n",
            "Final USD balance: nan\n"
          ]
        }
      ]
    }
  ]
}