{
  "cells": [
    {
      "attachments": {},
      "cell_type": "markdown",
      "metadata": {
        "id": "9BltsgmX5wWR"
      },
      "source": [
        "# Import Libraries"
      ]
    },
    {
      "cell_type": "code",
      "execution_count": 33,
      "metadata": {
        "id": "BScKeTrC3yDh"
      },
      "outputs": [],
      "source": [
        "import yfinance as yf\n",
        "import pandas as pd\n",
        "import matplotlib.pyplot as plt\n",
        "import seaborn as sns\n",
        "import numpy as np\n",
        "from datetime import datetime, timedelta"
      ]
    },
    {
      "attachments": {},
      "cell_type": "markdown",
      "metadata": {
        "id": "ZBl8RPSu51TE"
      },
      "source": [
        "# Download Data"
      ]
    },
    {
      "cell_type": "code",
      "execution_count": 2,
      "metadata": {
        "id": "nMYGY1xr9b-Q"
      },
      "outputs": [],
      "source": [
        "# Set Variables\n",
        "time_period = 30\n",
        "ticker_low = \"GGAL\"\n",
        "adr_mult_low = 10  #https://www.sec.gov/ix?doc=/Archives/edgar/data/0001114700/000111470023000012/ggal-20221231.htm\n",
        "ticker_high = \"EDN\"\n",
        "adr_mult_high = 20  #https://www.sec.gov/ix?doc=/Archives/edgar/data/0001395213/000129281423001639/edndorm20f_2022.htm"
      ]
    },
    {
      "cell_type": "code",
      "execution_count": 3,
      "metadata": {
        "id": "3MJPeJZH2Zvq"
      },
      "outputs": [],
      "source": [
        "# Create Start / End\n",
        "start_date = (datetime.now() - timedelta(days=time_period)).strftime('%Y-%m-%d')\n",
        "end_date = datetime.now().strftime('%Y-%m-%d')"
      ]
    },
    {
      "cell_type": "code",
      "execution_count": 4,
      "metadata": {
        "colab": {
          "base_uri": "https://localhost:8080/"
        },
        "id": "DyF6mfmg2siC",
        "outputId": "ab8293b4-381d-47f5-81f1-470c9811aea0"
      },
      "outputs": [
        {
          "name": "stdout",
          "output_type": "stream",
          "text": [
            "[*********************100%***********************]  1 of 1 completed\n",
            "[*********************100%***********************]  1 of 1 completed\n",
            "[*********************100%***********************]  1 of 1 completed\n",
            "[*********************100%***********************]  1 of 1 completed\n"
          ]
        }
      ],
      "source": [
        "# Download Data\n",
        "df_stock_low = yf.download(f'{ticker_low}.BA', start=start_date, end=end_date)\n",
        "df_adr_low = yf.download(ticker_low, start=start_date, end=end_date)\n",
        "df_stock_high = yf.download(f'{ticker_high}.BA', start=start_date, end=end_date)\n",
        "df_adr_high = yf.download(ticker_high, start=start_date, end=end_date)"
      ]
    },
    {
      "attachments": {},
      "cell_type": "markdown",
      "metadata": {
        "id": "VDtC5BwVPpiE"
      },
      "source": [
        "# Create CCL Tables"
      ]
    },
    {
      "cell_type": "code",
      "execution_count": 5,
      "metadata": {
        "id": "hZdD8G4EJrkC"
      },
      "outputs": [],
      "source": [
        "# Rename Columns\n",
        "df_stock_low = df_stock_low.rename(columns={'Close': 'Close_Stock'})\n",
        "df_adr_low = df_adr_low.rename(columns={'Close': 'Close_ADR'})\n",
        "df_stock_high = df_stock_high.rename(columns={'Close': 'Close_Stock'})\n",
        "df_adr_high = df_adr_high.rename(columns={'Close': 'Close_ADR'})"
      ]
    },
    {
      "cell_type": "code",
      "execution_count": 6,
      "metadata": {
        "id": "OP15WPWT9J8j"
      },
      "outputs": [],
      "source": [
        "# Combine Tables\n",
        "df_low = pd.concat([df_stock_low['Close_Stock'], df_adr_low[f'Close_ADR']], axis=1)\n",
        "df_high = pd.concat([df_stock_high['Close_Stock'], df_adr_high[f'Close_ADR']], axis=1)"
      ]
    },
    {
      "cell_type": "code",
      "execution_count": 7,
      "metadata": {
        "id": "isUIQSM-9UU4"
      },
      "outputs": [],
      "source": [
        "# Calculate Ratio\n",
        "df_low['Ratio'] = df_low['Close_Stock'] / df_low['Close_ADR']\n",
        "df_low['CCL'] = df_low['Ratio'] * adr_mult_low\n",
        "df_high['Ratio'] = df_high['Close_Stock'] / df_high['Close_ADR']\n",
        "df_high['CCL'] = df_high['Ratio'] * adr_mult_high"
      ]
    },
    {
      "cell_type": "code",
      "execution_count": 8,
      "metadata": {
        "id": "OvWT0qH_MWnD"
      },
      "outputs": [],
      "source": [
        "# Rename Columns\n",
        "df_low = df_low.rename(columns={'CCL': f'CCL_{ticker_low}'})\n",
        "df_high = df_high.rename(columns={'CCL': f'CCL_{ticker_high}'})"
      ]
    },
    {
      "cell_type": "code",
      "execution_count": 9,
      "metadata": {
        "colab": {
          "base_uri": "https://localhost:8080/",
          "height": 455
        },
        "id": "d8xrqsGMMvao",
        "outputId": "ee0d2c65-fecd-4ec8-9854-423862927a68"
      },
      "outputs": [
        {
          "data": {
            "text/html": [
              "<div>\n",
              "<style scoped>\n",
              "    .dataframe tbody tr th:only-of-type {\n",
              "        vertical-align: middle;\n",
              "    }\n",
              "\n",
              "    .dataframe tbody tr th {\n",
              "        vertical-align: top;\n",
              "    }\n",
              "\n",
              "    .dataframe thead th {\n",
              "        text-align: right;\n",
              "    }\n",
              "</style>\n",
              "<table border=\"1\" class=\"dataframe\">\n",
              "  <thead>\n",
              "    <tr style=\"text-align: right;\">\n",
              "      <th></th>\n",
              "      <th>CCL_GGAL</th>\n",
              "      <th>CCL_EDN</th>\n",
              "    </tr>\n",
              "    <tr>\n",
              "      <th>Date</th>\n",
              "      <th></th>\n",
              "      <th></th>\n",
              "    </tr>\n",
              "  </thead>\n",
              "  <tbody>\n",
              "    <tr>\n",
              "      <th>2023-05-29</th>\n",
              "      <td>NaN</td>\n",
              "      <td>NaN</td>\n",
              "    </tr>\n",
              "    <tr>\n",
              "      <th>2023-05-30</th>\n",
              "      <td>470.809282</td>\n",
              "      <td>489.999997</td>\n",
              "    </tr>\n",
              "    <tr>\n",
              "      <th>2023-05-31</th>\n",
              "      <td>490.775058</td>\n",
              "      <td>493.198739</td>\n",
              "    </tr>\n",
              "    <tr>\n",
              "      <th>2023-06-01</th>\n",
              "      <td>494.044649</td>\n",
              "      <td>503.905458</td>\n",
              "    </tr>\n",
              "    <tr>\n",
              "      <th>2023-06-02</th>\n",
              "      <td>494.331644</td>\n",
              "      <td>492.710301</td>\n",
              "    </tr>\n",
              "    <tr>\n",
              "      <th>2023-06-05</th>\n",
              "      <td>492.781816</td>\n",
              "      <td>496.923106</td>\n",
              "    </tr>\n",
              "    <tr>\n",
              "      <th>2023-06-06</th>\n",
              "      <td>489.519030</td>\n",
              "      <td>487.760180</td>\n",
              "    </tr>\n",
              "    <tr>\n",
              "      <th>2023-06-07</th>\n",
              "      <td>489.241396</td>\n",
              "      <td>495.458448</td>\n",
              "    </tr>\n",
              "    <tr>\n",
              "      <th>2023-06-08</th>\n",
              "      <td>488.555856</td>\n",
              "      <td>498.132429</td>\n",
              "    </tr>\n",
              "    <tr>\n",
              "      <th>2023-06-09</th>\n",
              "      <td>488.723813</td>\n",
              "      <td>499.308580</td>\n",
              "    </tr>\n",
              "    <tr>\n",
              "      <th>2023-06-12</th>\n",
              "      <td>494.075313</td>\n",
              "      <td>499.824382</td>\n",
              "    </tr>\n",
              "    <tr>\n",
              "      <th>2023-06-13</th>\n",
              "      <td>494.828728</td>\n",
              "      <td>505.818204</td>\n",
              "    </tr>\n",
              "    <tr>\n",
              "      <th>2023-06-14</th>\n",
              "      <td>489.504202</td>\n",
              "      <td>505.312242</td>\n",
              "    </tr>\n",
              "    <tr>\n",
              "      <th>2023-06-15</th>\n",
              "      <td>500.375923</td>\n",
              "      <td>511.387900</td>\n",
              "    </tr>\n",
              "    <tr>\n",
              "      <th>2023-06-16</th>\n",
              "      <td>508.298730</td>\n",
              "      <td>503.338917</td>\n",
              "    </tr>\n",
              "    <tr>\n",
              "      <th>2023-06-20</th>\n",
              "      <td>NaN</td>\n",
              "      <td>NaN</td>\n",
              "    </tr>\n",
              "    <tr>\n",
              "      <th>2023-06-21</th>\n",
              "      <td>508.960703</td>\n",
              "      <td>505.503948</td>\n",
              "    </tr>\n",
              "    <tr>\n",
              "      <th>2023-06-22</th>\n",
              "      <td>511.000015</td>\n",
              "      <td>509.071437</td>\n",
              "    </tr>\n",
              "    <tr>\n",
              "      <th>2023-06-23</th>\n",
              "      <td>516.030983</td>\n",
              "      <td>500.750850</td>\n",
              "    </tr>\n",
              "    <tr>\n",
              "      <th>2023-06-26</th>\n",
              "      <td>512.635189</td>\n",
              "      <td>504.949946</td>\n",
              "    </tr>\n",
              "    <tr>\n",
              "      <th>2023-06-27</th>\n",
              "      <td>NaN</td>\n",
              "      <td>NaN</td>\n",
              "    </tr>\n",
              "  </tbody>\n",
              "</table>\n",
              "</div>"
            ],
            "text/plain": [
              "              CCL_GGAL     CCL_EDN\n",
              "Date                              \n",
              "2023-05-29         NaN         NaN\n",
              "2023-05-30  470.809282  489.999997\n",
              "2023-05-31  490.775058  493.198739\n",
              "2023-06-01  494.044649  503.905458\n",
              "2023-06-02  494.331644  492.710301\n",
              "2023-06-05  492.781816  496.923106\n",
              "2023-06-06  489.519030  487.760180\n",
              "2023-06-07  489.241396  495.458448\n",
              "2023-06-08  488.555856  498.132429\n",
              "2023-06-09  488.723813  499.308580\n",
              "2023-06-12  494.075313  499.824382\n",
              "2023-06-13  494.828728  505.818204\n",
              "2023-06-14  489.504202  505.312242\n",
              "2023-06-15  500.375923  511.387900\n",
              "2023-06-16  508.298730  503.338917\n",
              "2023-06-20         NaN         NaN\n",
              "2023-06-21  508.960703  505.503948\n",
              "2023-06-22  511.000015  509.071437\n",
              "2023-06-23  516.030983  500.750850\n",
              "2023-06-26  512.635189  504.949946\n",
              "2023-06-27         NaN         NaN"
            ]
          },
          "execution_count": 9,
          "metadata": {},
          "output_type": "execute_result"
        }
      ],
      "source": [
        "# Combine Tables\n",
        "df = pd.concat([df_low[f'CCL_{ticker_low}'], df_high[f'CCL_{ticker_high}']], axis=1)\n",
        "df"
      ]
    },
    {
      "attachments": {},
      "cell_type": "markdown",
      "metadata": {
        "id": "SQkqj8SGPvmU"
      },
      "source": [
        "# Plot CCL"
      ]
    },
    {
      "cell_type": "code",
      "execution_count": 10,
      "metadata": {
        "colab": {
          "base_uri": "https://localhost:8080/",
          "height": 423
        },
        "id": "iypoRSdhNml6",
        "outputId": "f5a203e6-2c19-4a83-be25-a0e9422f04b6"
      },
      "outputs": [
        {
          "data": {
            "text/html": [
              "<div>\n",
              "<style scoped>\n",
              "    .dataframe tbody tr th:only-of-type {\n",
              "        vertical-align: middle;\n",
              "    }\n",
              "\n",
              "    .dataframe tbody tr th {\n",
              "        vertical-align: top;\n",
              "    }\n",
              "\n",
              "    .dataframe thead th {\n",
              "        text-align: right;\n",
              "    }\n",
              "</style>\n",
              "<table border=\"1\" class=\"dataframe\">\n",
              "  <thead>\n",
              "    <tr style=\"text-align: right;\">\n",
              "      <th></th>\n",
              "      <th>Date</th>\n",
              "      <th>Instrument</th>\n",
              "      <th>CCL_Rate</th>\n",
              "    </tr>\n",
              "  </thead>\n",
              "  <tbody>\n",
              "    <tr>\n",
              "      <th>0</th>\n",
              "      <td>2023-05-29</td>\n",
              "      <td>CCL_GGAL</td>\n",
              "      <td>NaN</td>\n",
              "    </tr>\n",
              "    <tr>\n",
              "      <th>1</th>\n",
              "      <td>2023-05-30</td>\n",
              "      <td>CCL_GGAL</td>\n",
              "      <td>470.809282</td>\n",
              "    </tr>\n",
              "    <tr>\n",
              "      <th>2</th>\n",
              "      <td>2023-05-31</td>\n",
              "      <td>CCL_GGAL</td>\n",
              "      <td>490.775058</td>\n",
              "    </tr>\n",
              "    <tr>\n",
              "      <th>3</th>\n",
              "      <td>2023-06-01</td>\n",
              "      <td>CCL_GGAL</td>\n",
              "      <td>494.044649</td>\n",
              "    </tr>\n",
              "    <tr>\n",
              "      <th>4</th>\n",
              "      <td>2023-06-02</td>\n",
              "      <td>CCL_GGAL</td>\n",
              "      <td>494.331644</td>\n",
              "    </tr>\n",
              "    <tr>\n",
              "      <th>5</th>\n",
              "      <td>2023-06-05</td>\n",
              "      <td>CCL_GGAL</td>\n",
              "      <td>492.781816</td>\n",
              "    </tr>\n",
              "    <tr>\n",
              "      <th>6</th>\n",
              "      <td>2023-06-06</td>\n",
              "      <td>CCL_GGAL</td>\n",
              "      <td>489.519030</td>\n",
              "    </tr>\n",
              "    <tr>\n",
              "      <th>7</th>\n",
              "      <td>2023-06-07</td>\n",
              "      <td>CCL_GGAL</td>\n",
              "      <td>489.241396</td>\n",
              "    </tr>\n",
              "    <tr>\n",
              "      <th>8</th>\n",
              "      <td>2023-06-08</td>\n",
              "      <td>CCL_GGAL</td>\n",
              "      <td>488.555856</td>\n",
              "    </tr>\n",
              "    <tr>\n",
              "      <th>9</th>\n",
              "      <td>2023-06-09</td>\n",
              "      <td>CCL_GGAL</td>\n",
              "      <td>488.723813</td>\n",
              "    </tr>\n",
              "    <tr>\n",
              "      <th>10</th>\n",
              "      <td>2023-06-12</td>\n",
              "      <td>CCL_GGAL</td>\n",
              "      <td>494.075313</td>\n",
              "    </tr>\n",
              "    <tr>\n",
              "      <th>11</th>\n",
              "      <td>2023-06-13</td>\n",
              "      <td>CCL_GGAL</td>\n",
              "      <td>494.828728</td>\n",
              "    </tr>\n",
              "    <tr>\n",
              "      <th>12</th>\n",
              "      <td>2023-06-14</td>\n",
              "      <td>CCL_GGAL</td>\n",
              "      <td>489.504202</td>\n",
              "    </tr>\n",
              "    <tr>\n",
              "      <th>13</th>\n",
              "      <td>2023-06-15</td>\n",
              "      <td>CCL_GGAL</td>\n",
              "      <td>500.375923</td>\n",
              "    </tr>\n",
              "    <tr>\n",
              "      <th>14</th>\n",
              "      <td>2023-06-16</td>\n",
              "      <td>CCL_GGAL</td>\n",
              "      <td>508.298730</td>\n",
              "    </tr>\n",
              "    <tr>\n",
              "      <th>15</th>\n",
              "      <td>2023-06-20</td>\n",
              "      <td>CCL_GGAL</td>\n",
              "      <td>NaN</td>\n",
              "    </tr>\n",
              "    <tr>\n",
              "      <th>16</th>\n",
              "      <td>2023-06-21</td>\n",
              "      <td>CCL_GGAL</td>\n",
              "      <td>508.960703</td>\n",
              "    </tr>\n",
              "    <tr>\n",
              "      <th>17</th>\n",
              "      <td>2023-06-22</td>\n",
              "      <td>CCL_GGAL</td>\n",
              "      <td>511.000015</td>\n",
              "    </tr>\n",
              "    <tr>\n",
              "      <th>18</th>\n",
              "      <td>2023-06-23</td>\n",
              "      <td>CCL_GGAL</td>\n",
              "      <td>516.030983</td>\n",
              "    </tr>\n",
              "    <tr>\n",
              "      <th>19</th>\n",
              "      <td>2023-06-26</td>\n",
              "      <td>CCL_GGAL</td>\n",
              "      <td>512.635189</td>\n",
              "    </tr>\n",
              "    <tr>\n",
              "      <th>20</th>\n",
              "      <td>2023-06-27</td>\n",
              "      <td>CCL_GGAL</td>\n",
              "      <td>NaN</td>\n",
              "    </tr>\n",
              "    <tr>\n",
              "      <th>21</th>\n",
              "      <td>2023-05-29</td>\n",
              "      <td>CCL_EDN</td>\n",
              "      <td>NaN</td>\n",
              "    </tr>\n",
              "    <tr>\n",
              "      <th>22</th>\n",
              "      <td>2023-05-30</td>\n",
              "      <td>CCL_EDN</td>\n",
              "      <td>489.999997</td>\n",
              "    </tr>\n",
              "    <tr>\n",
              "      <th>23</th>\n",
              "      <td>2023-05-31</td>\n",
              "      <td>CCL_EDN</td>\n",
              "      <td>493.198739</td>\n",
              "    </tr>\n",
              "    <tr>\n",
              "      <th>24</th>\n",
              "      <td>2023-06-01</td>\n",
              "      <td>CCL_EDN</td>\n",
              "      <td>503.905458</td>\n",
              "    </tr>\n",
              "    <tr>\n",
              "      <th>25</th>\n",
              "      <td>2023-06-02</td>\n",
              "      <td>CCL_EDN</td>\n",
              "      <td>492.710301</td>\n",
              "    </tr>\n",
              "    <tr>\n",
              "      <th>26</th>\n",
              "      <td>2023-06-05</td>\n",
              "      <td>CCL_EDN</td>\n",
              "      <td>496.923106</td>\n",
              "    </tr>\n",
              "    <tr>\n",
              "      <th>27</th>\n",
              "      <td>2023-06-06</td>\n",
              "      <td>CCL_EDN</td>\n",
              "      <td>487.760180</td>\n",
              "    </tr>\n",
              "    <tr>\n",
              "      <th>28</th>\n",
              "      <td>2023-06-07</td>\n",
              "      <td>CCL_EDN</td>\n",
              "      <td>495.458448</td>\n",
              "    </tr>\n",
              "    <tr>\n",
              "      <th>29</th>\n",
              "      <td>2023-06-08</td>\n",
              "      <td>CCL_EDN</td>\n",
              "      <td>498.132429</td>\n",
              "    </tr>\n",
              "    <tr>\n",
              "      <th>30</th>\n",
              "      <td>2023-06-09</td>\n",
              "      <td>CCL_EDN</td>\n",
              "      <td>499.308580</td>\n",
              "    </tr>\n",
              "    <tr>\n",
              "      <th>31</th>\n",
              "      <td>2023-06-12</td>\n",
              "      <td>CCL_EDN</td>\n",
              "      <td>499.824382</td>\n",
              "    </tr>\n",
              "    <tr>\n",
              "      <th>32</th>\n",
              "      <td>2023-06-13</td>\n",
              "      <td>CCL_EDN</td>\n",
              "      <td>505.818204</td>\n",
              "    </tr>\n",
              "    <tr>\n",
              "      <th>33</th>\n",
              "      <td>2023-06-14</td>\n",
              "      <td>CCL_EDN</td>\n",
              "      <td>505.312242</td>\n",
              "    </tr>\n",
              "    <tr>\n",
              "      <th>34</th>\n",
              "      <td>2023-06-15</td>\n",
              "      <td>CCL_EDN</td>\n",
              "      <td>511.387900</td>\n",
              "    </tr>\n",
              "    <tr>\n",
              "      <th>35</th>\n",
              "      <td>2023-06-16</td>\n",
              "      <td>CCL_EDN</td>\n",
              "      <td>503.338917</td>\n",
              "    </tr>\n",
              "    <tr>\n",
              "      <th>36</th>\n",
              "      <td>2023-06-20</td>\n",
              "      <td>CCL_EDN</td>\n",
              "      <td>NaN</td>\n",
              "    </tr>\n",
              "    <tr>\n",
              "      <th>37</th>\n",
              "      <td>2023-06-21</td>\n",
              "      <td>CCL_EDN</td>\n",
              "      <td>505.503948</td>\n",
              "    </tr>\n",
              "    <tr>\n",
              "      <th>38</th>\n",
              "      <td>2023-06-22</td>\n",
              "      <td>CCL_EDN</td>\n",
              "      <td>509.071437</td>\n",
              "    </tr>\n",
              "    <tr>\n",
              "      <th>39</th>\n",
              "      <td>2023-06-23</td>\n",
              "      <td>CCL_EDN</td>\n",
              "      <td>500.750850</td>\n",
              "    </tr>\n",
              "    <tr>\n",
              "      <th>40</th>\n",
              "      <td>2023-06-26</td>\n",
              "      <td>CCL_EDN</td>\n",
              "      <td>504.949946</td>\n",
              "    </tr>\n",
              "    <tr>\n",
              "      <th>41</th>\n",
              "      <td>2023-06-27</td>\n",
              "      <td>CCL_EDN</td>\n",
              "      <td>NaN</td>\n",
              "    </tr>\n",
              "  </tbody>\n",
              "</table>\n",
              "</div>"
            ],
            "text/plain": [
              "         Date Instrument    CCL_Rate\n",
              "0  2023-05-29   CCL_GGAL         NaN\n",
              "1  2023-05-30   CCL_GGAL  470.809282\n",
              "2  2023-05-31   CCL_GGAL  490.775058\n",
              "3  2023-06-01   CCL_GGAL  494.044649\n",
              "4  2023-06-02   CCL_GGAL  494.331644\n",
              "5  2023-06-05   CCL_GGAL  492.781816\n",
              "6  2023-06-06   CCL_GGAL  489.519030\n",
              "7  2023-06-07   CCL_GGAL  489.241396\n",
              "8  2023-06-08   CCL_GGAL  488.555856\n",
              "9  2023-06-09   CCL_GGAL  488.723813\n",
              "10 2023-06-12   CCL_GGAL  494.075313\n",
              "11 2023-06-13   CCL_GGAL  494.828728\n",
              "12 2023-06-14   CCL_GGAL  489.504202\n",
              "13 2023-06-15   CCL_GGAL  500.375923\n",
              "14 2023-06-16   CCL_GGAL  508.298730\n",
              "15 2023-06-20   CCL_GGAL         NaN\n",
              "16 2023-06-21   CCL_GGAL  508.960703\n",
              "17 2023-06-22   CCL_GGAL  511.000015\n",
              "18 2023-06-23   CCL_GGAL  516.030983\n",
              "19 2023-06-26   CCL_GGAL  512.635189\n",
              "20 2023-06-27   CCL_GGAL         NaN\n",
              "21 2023-05-29    CCL_EDN         NaN\n",
              "22 2023-05-30    CCL_EDN  489.999997\n",
              "23 2023-05-31    CCL_EDN  493.198739\n",
              "24 2023-06-01    CCL_EDN  503.905458\n",
              "25 2023-06-02    CCL_EDN  492.710301\n",
              "26 2023-06-05    CCL_EDN  496.923106\n",
              "27 2023-06-06    CCL_EDN  487.760180\n",
              "28 2023-06-07    CCL_EDN  495.458448\n",
              "29 2023-06-08    CCL_EDN  498.132429\n",
              "30 2023-06-09    CCL_EDN  499.308580\n",
              "31 2023-06-12    CCL_EDN  499.824382\n",
              "32 2023-06-13    CCL_EDN  505.818204\n",
              "33 2023-06-14    CCL_EDN  505.312242\n",
              "34 2023-06-15    CCL_EDN  511.387900\n",
              "35 2023-06-16    CCL_EDN  503.338917\n",
              "36 2023-06-20    CCL_EDN         NaN\n",
              "37 2023-06-21    CCL_EDN  505.503948\n",
              "38 2023-06-22    CCL_EDN  509.071437\n",
              "39 2023-06-23    CCL_EDN  500.750850\n",
              "40 2023-06-26    CCL_EDN  504.949946\n",
              "41 2023-06-27    CCL_EDN         NaN"
            ]
          },
          "execution_count": 10,
          "metadata": {},
          "output_type": "execute_result"
        }
      ],
      "source": [
        "# Melt Tables\n",
        "df_melted = df.reset_index().melt('Date', var_name='Instrument', value_name='CCL_Rate')\n",
        "df_melted"
      ]
    },
    {
      "cell_type": "code",
      "execution_count": 11,
      "metadata": {
        "colab": {
          "base_uri": "https://localhost:8080/",
          "height": 459
        },
        "id": "02UwTKuG9Xwq",
        "outputId": "5370b137-b75a-4beb-d55d-60e541b11402"
      },
      "outputs": [
        {
          "data": {
            "image/png": "[encoded data removed]",
            "text/plain": [
              "<Figure size 1000x700 with 1 Axes>"
            ]
          },
          "metadata": {},
          "output_type": "display_data"
        }
      ],
      "source": [
        "# Plot\n",
        "plt.figure(figsize=(10, 7))\n",
        "sns.lineplot(x='Date', y='CCL_Rate', hue='Instrument', data=df_melted)\n",
        "plt.show()"
      ]
    },
    {
      "attachments": {},
      "cell_type": "markdown",
      "metadata": {
        "id": "duQPN3k7PyAI"
      },
      "source": [
        "# Once Cycle"
      ]
    },
    {
      "cell_type": "code",
      "execution_count": 12,
      "metadata": {
        "id": "YygnljdgRf51"
      },
      "outputs": [],
      "source": [
        "# Example walking through one round-trip transaction\n",
        "## Must determine round trip cycle duration and fees(intermediary,depositor,custodian), taxes"
      ]
    },
    {
      "cell_type": "code",
      "execution_count": 13,
      "metadata": {
        "colab": {
          "base_uri": "https://localhost:8080/",
          "height": 36
        },
        "id": "-ExLizyCR1OF",
        "outputId": "3a347258-1872-40ea-b22b-629aed2baca2"
      },
      "outputs": [
        {
          "data": {
            "text/plain": [
              "'EDN'"
            ]
          },
          "execution_count": 13,
          "metadata": {},
          "output_type": "execute_result"
        }
      ],
      "source": [
        "ticker_high"
      ]
    },
    {
      "cell_type": "code",
      "execution_count": 14,
      "metadata": {
        "colab": {
          "base_uri": "https://localhost:8080/",
          "height": 36
        },
        "id": "ovJCmnfvR4CP",
        "outputId": "a8bf1db6-65d3-486e-f52b-8267abaad5c6"
      },
      "outputs": [
        {
          "data": {
            "text/plain": [
              "'GGAL'"
            ]
          },
          "execution_count": 14,
          "metadata": {},
          "output_type": "execute_result"
        }
      ],
      "source": [
        "ticker_low"
      ]
    },
    {
      "cell_type": "code",
      "execution_count": 15,
      "metadata": {},
      "outputs": [
        {
          "data": {
            "text/plain": [
              "15.109999656677246"
            ]
          },
          "execution_count": 15,
          "metadata": {},
          "output_type": "execute_result"
        }
      ],
      "source": [
        "df_adr_high.iloc[-1, :]['Close_ADR']"
      ]
    },
    {
      "cell_type": "code",
      "execution_count": 16,
      "metadata": {
        "colab": {
          "base_uri": "https://localhost:8080/"
        },
        "id": "C4T3d_MmPPv5",
        "outputId": "90a911c9-3a7d-4651-b701-356bff08f9fd"
      },
      "outputs": [
        {
          "data": {
            "text/plain": [
              "-15.109999656677246"
            ]
          },
          "execution_count": 16,
          "metadata": {},
          "output_type": "execute_result"
        }
      ],
      "source": [
        "# 1. Purchase High ADR in NYSE\n",
        "##TODO:determine transaction costs, parking period\n",
        "adr_high = df_adr_high.iloc[-1, :]['Close_ADR']\n",
        "usd_1 = -adr_high\n",
        "usd_1"
      ]
    },
    {
      "cell_type": "code",
      "execution_count": 17,
      "metadata": {
        "colab": {
          "base_uri": "https://localhost:8080/"
        },
        "id": "lli0wkEzSXnx",
        "outputId": "dd8c5335-c3ec-4604-8968-017e13aa167e"
      },
      "outputs": [
        {
          "data": {
            "text/plain": [
              "20"
            ]
          },
          "execution_count": 17,
          "metadata": {},
          "output_type": "execute_result"
        }
      ],
      "source": [
        "# Check ADR High Multiplier\n",
        "##American Depositary Shares, or ADSs, evidenced by American Depositary Receipts, each representing X Class B Common Shares\n",
        "adr_mult_high"
      ]
    },
    {
      "cell_type": "code",
      "execution_count": 18,
      "metadata": {
        "colab": {
          "base_uri": "https://localhost:8080/"
        },
        "id": "oUvqCEGMR_Qw",
        "outputId": "5bb0f37e-43f8-46ac-b2be-77a07be394b7"
      },
      "outputs": [
        {
          "data": {
            "text/plain": [
              "428.45001220703125"
            ]
          },
          "execution_count": 18,
          "metadata": {},
          "output_type": "execute_result"
        }
      ],
      "source": [
        "# Check ADR High Stock Price\n",
        "stock_high = df_stock_high.iloc[-1, :]['Close_Stock']\n",
        "stock_high"
      ]
    },
    {
      "cell_type": "code",
      "execution_count": 19,
      "metadata": {
        "colab": {
          "base_uri": "https://localhost:8080/"
        },
        "id": "MkaWCJQPRF2E",
        "outputId": "34c4819b-1d7a-4054-eded-1b591168b9ca"
      },
      "outputs": [
        {
          "data": {
            "text/plain": [
              "8569.000244140625"
            ]
          },
          "execution_count": 19,
          "metadata": {},
          "output_type": "execute_result"
        }
      ],
      "source": [
        "# 2. Transfer ADR(NYSE) to Stock(Merval) and liquidate into pesos\n",
        "##TODO:determine transfer and liquidation costs, parking costs\n",
        "##TODO:determine process / protocol for transfer\n",
        "ars_1 = adr_mult_high * stock_high\n",
        "ars_1"
      ]
    },
    {
      "cell_type": "code",
      "execution_count": 20,
      "metadata": {
        "colab": {
          "base_uri": "https://localhost:8080/"
        },
        "id": "2Ds1dkB1Tibc",
        "outputId": "79a799dc-e514-4d69-efce-c9002cc26b80"
      },
      "outputs": [
        {
          "data": {
            "text/plain": [
              "900.7000122070312"
            ]
          },
          "execution_count": 20,
          "metadata": {},
          "output_type": "execute_result"
        }
      ],
      "source": [
        "# Check Stock Low Price\n",
        "stock_low = df_stock_low.iloc[-1, :]['Close_Stock']\n",
        "stock_low"
      ]
    },
    {
      "cell_type": "code",
      "execution_count": 21,
      "metadata": {
        "colab": {
          "base_uri": "https://localhost:8080/"
        },
        "id": "T0DYdGW5Trci",
        "outputId": "e9097795-37ec-4f1a-d93b-5e03eec8c6f3"
      },
      "outputs": [
        {
          "data": {
            "text/plain": [
              "10"
            ]
          },
          "execution_count": 21,
          "metadata": {},
          "output_type": "execute_result"
        }
      ],
      "source": [
        "# Check Stock Low ADR Multipler\n",
        "adr_mult_low"
      ]
    },
    {
      "cell_type": "code",
      "execution_count": 22,
      "metadata": {
        "colab": {
          "base_uri": "https://localhost:8080/"
        },
        "id": "Yui2AyvgT8Y9",
        "outputId": "ea840907-5dc0-49c7-8f68-eff5568fed20"
      },
      "outputs": [
        {
          "data": {
            "text/plain": [
              "9007.000122070312"
            ]
          },
          "execution_count": 22,
          "metadata": {},
          "output_type": "execute_result"
        }
      ],
      "source": [
        "# Purchase Stock(Merval) x ADR Multipler\n",
        "ars_2 = stock_low * adr_mult_low\n",
        "ars_2"
      ]
    },
    {
      "cell_type": "code",
      "execution_count": 23,
      "metadata": {
        "colab": {
          "base_uri": "https://localhost:8080/"
        },
        "id": "YciKc2BCUd53",
        "outputId": "9b7b804f-f552-45df-c19b-19a9aa564d18"
      },
      "outputs": [
        {
          "data": {
            "text/plain": [
              "-437.9998779296875"
            ]
          },
          "execution_count": 23,
          "metadata": {},
          "output_type": "execute_result"
        }
      ],
      "source": [
        "# Calculate AR$ Balance\n",
        "ars_balance = ars_1 - ars_2\n",
        "ars_balance"
      ]
    },
    {
      "cell_type": "code",
      "execution_count": 24,
      "metadata": {
        "colab": {
          "base_uri": "https://localhost:8080/"
        },
        "id": "v-hOwxK_VDqs",
        "outputId": "bf76ff5a-124f-4e55-bba8-810dfdcdce42"
      },
      "outputs": [
        {
          "data": {
            "text/plain": [
              "16.770000457763672"
            ]
          },
          "execution_count": 24,
          "metadata": {},
          "output_type": "execute_result"
        }
      ],
      "source": [
        "# Check ADR Low Price\n",
        "adr_low = df_adr_low.iloc[-1,:]['Close_ADR']\n",
        "adr_low"
      ]
    },
    {
      "cell_type": "code",
      "execution_count": 25,
      "metadata": {
        "colab": {
          "base_uri": "https://localhost:8080/"
        },
        "id": "Xx2oXqIQSNJC",
        "outputId": "b3103250-c7eb-4763-fddd-476aa3d68caa"
      },
      "outputs": [
        {
          "data": {
            "text/plain": [
              "16.770000457763672"
            ]
          },
          "execution_count": 25,
          "metadata": {},
          "output_type": "execute_result"
        }
      ],
      "source": [
        "# Convert from Stock(Merval) to ADR(NYSE) and liquidate into dollars\n",
        "##TODO:determine transfer and liquidation costs, parking costs\n",
        "##TODO:determine process / protocol for transfer\n",
        "usd_2 = adr_low\n",
        "usd_2"
      ]
    },
    {
      "cell_type": "code",
      "execution_count": 26,
      "metadata": {
        "colab": {
          "base_uri": "https://localhost:8080/"
        },
        "id": "nbpXvN6AVguh",
        "outputId": "c828bee3-9b26-4ee5-dd81-5b6c51a0dcb7"
      },
      "outputs": [
        {
          "data": {
            "text/plain": [
              "1.6600008010864258"
            ]
          },
          "execution_count": 26,
          "metadata": {},
          "output_type": "execute_result"
        }
      ],
      "source": [
        "# Check USD Balance\n",
        "usd_balance = usd_1 + usd_2\n",
        "usd_balance"
      ]
    },
    {
      "cell_type": "code",
      "execution_count": 27,
      "metadata": {
        "colab": {
          "base_uri": "https://localhost:8080/"
        },
        "id": "C0sdk7xOWEyf",
        "outputId": "473f9e09-5cf9-4da1-cb7a-edddbae022c5"
      },
      "outputs": [
        {
          "data": {
            "text/plain": [
              "-437.9998779296875"
            ]
          },
          "execution_count": 27,
          "metadata": {},
          "output_type": "execute_result"
        }
      ],
      "source": [
        "# Check ARS Balance\n",
        "ars_balance"
      ]
    },
    {
      "cell_type": "code",
      "execution_count": 28,
      "metadata": {
        "colab": {
          "base_uri": "https://localhost:8080/"
        },
        "id": "GuMJM9UPWUVW",
        "outputId": "0d025d98-910d-4b10-9d1b-9fb68040093a"
      },
      "outputs": [
        {
          "data": {
            "text/plain": [
              "-263.8552208185854"
            ]
          },
          "execution_count": 28,
          "metadata": {},
          "output_type": "execute_result"
        }
      ],
      "source": [
        "ars_balance/usd_balance"
      ]
    },
    {
      "attachments": {},
      "cell_type": "markdown",
      "metadata": {
        "id": "azODTIr9YzG3"
      },
      "source": [
        "# Index"
      ]
    },
    {
      "cell_type": "code",
      "execution_count": 34,
      "metadata": {
        "id": "UN7QpVk3eIXn"
      },
      "outputs": [],
      "source": [
        "companies = [\n",
        "    #'BBAR',\n",
        "    #'BMA',\n",
        "    'CEPU',\n",
        "    'CRESY',\n",
        "    'EDN',\n",
        "    'GGAL',\n",
        "    'SUPV',\n",
        "    'IRS',\n",
        "    'LOMA',\n",
        "    'PAM',\n",
        "    'TEO',\n",
        "    'TS',\n",
        "    'TX',\n",
        "    'TGS']\n",
        "\n",
        "multipliers = {\n",
        "    #'BBAR': 3,  #https://www.sec.gov/ix?doc=/Archives/edgar/data/0000913059/000119312523118482/d264052d20f.htm\n",
        "    #'BMA': 1,   #https://www.sec.gov/ix?doc=/Archives/edgar/data/0001347426/000119312523126614/d266368d20f.htm\n",
        "    'CEPU': 10, #https://www.sec.gov/ix?doc=/Archives/edgar/data/0001717161/000165495423005229/cepu_20f.htm\n",
        "    'CRESY': 1, #https://www.sec.gov/ix?doc=/Archives/edgar/data/0001034957/000165495422014335/abc_20f.htm\n",
        "    'EDN': 20,  #https://www.sec.gov/ix?doc=/Archives/edgar/data/0001395213/000129281423001639/edndorm20f_2022.htm\n",
        "    'GGAL': 10, #https://www.sec.gov/ix?doc=/Archives/edgar/data/0001114700/000119312522116900/d248187d20f.htm\n",
        "    'SUPV': 5,  #https://www.sec.gov/ix?doc=/Archives/edgar/data/0001517399/000155837023006859/tmb-20221231x20f.htm\n",
        "    'IRS': 10,  #https://www.sec.gov/ix?doc=/Archives/edgar/data/0000933267/000165495422014187/irsa_20f.htm\n",
        "    'LOMA': 5,  #https://www.sec.gov/ix?doc=/Archives/edgar/data/0001711375/000171137523000005/loma-20221231.htm\n",
        "    'PAM': 25,  #https://www.sec.gov/ix?doc=/Archives/edgar/data/0001469395/000129281423001936/pamform20f_2022.htm\n",
        "    'TEO': 5,   #https://www.sec.gov/ix?doc=/Archives/edgar/data/0000932470/000110465923034541/teo-20221231x20f.htm\n",
        "    'TS': 1,    #https://www.sec.gov/ix?doc=/Archives/edgar/data/0001190723/000155485523000209/ts-20221231.htm\n",
        "    'TX': 1,    #https://www.sec.gov/ix?doc=/Archives/edgar/data/0001342874/000134287423000021/tx-20221231.htm\n",
        "    'TGS': 1   #https://www.sec.gov/ix?doc=/Archives/edgar/data/0000931427/000114036123020256/brhc20051753_20f.htm\n",
        "    }"
      ]
    },
    {
      "cell_type": "code",
      "execution_count": 35,
      "metadata": {
        "id": "_tJ6TSP5W1M8"
      },
      "outputs": [],
      "source": [
        "data_dict = {}\n",
        "one_month_ago = (pd.Timestamp.today() - pd.DateOffset(months=1)).strftime('%Y-%m-%d')\n",
        "now = pd.Timestamp.today().strftime('%Y-%m-%d')"
      ]
    },
    {
      "cell_type": "code",
      "execution_count": 36,
      "metadata": {
        "colab": {
          "base_uri": "https://localhost:8080/"
        },
        "id": "71VBG0Zsadsd",
        "outputId": "dd1803df-bd02-4539-98c6-1fed33d337de"
      },
      "outputs": [
        {
          "name": "stdout",
          "output_type": "stream",
          "text": [
            "[*********************100%***********************]  1 of 1 completed\n",
            "[*********************100%***********************]  1 of 1 completed\n",
            "[*********************100%***********************]  1 of 1 completed\n",
            "[*********************100%***********************]  1 of 1 completed"
          ]
        },
        {
          "name": "stderr",
          "output_type": "stream",
          "text": [
            "\n",
            "1 Failed download:\n",
            "['CRESY.BA']: Exception('%ticker%: No timezone found, symbol may be delisted')\n"
          ]
        },
        {
          "name": "stdout",
          "output_type": "stream",
          "text": [
            "\n",
            "Data for CRESY or CRESY.BA is empty. Skipping this ticker.\n",
            "[*********************100%***********************]  1 of 1 completed\n",
            "[*********************100%***********************]  1 of 1 completed\n",
            "[*********************100%***********************]  1 of 1 completed\n",
            "[*********************100%***********************]  1 of 1 completed\n",
            "[*********************100%***********************]  1 of 1 completed\n",
            "[*********************100%***********************]  1 of 1 completed\n",
            "[*********************100%***********************]  1 of 1 completed\n",
            "[*********************100%***********************]  1 of 1 completed"
          ]
        },
        {
          "name": "stderr",
          "output_type": "stream",
          "text": [
            "\n",
            "1 Failed download:\n",
            "['IRS.BA']: Exception('%ticker%: No timezone found, symbol may be delisted')\n"
          ]
        },
        {
          "name": "stdout",
          "output_type": "stream",
          "text": [
            "\n",
            "Data for IRS or IRS.BA is empty. Skipping this ticker.\n",
            "[*********************100%***********************]  1 of 1 completed\n",
            "[*********************100%***********************]  1 of 1 completed\n",
            "[*********************100%***********************]  1 of 1 completed\n",
            "[*********************100%***********************]  1 of 1 completed"
          ]
        },
        {
          "name": "stderr",
          "output_type": "stream",
          "text": [
            "\n",
            "1 Failed download:\n",
            "['PAM.BA']: Exception('%ticker%: No timezone found, symbol may be delisted')\n"
          ]
        },
        {
          "name": "stdout",
          "output_type": "stream",
          "text": [
            "\n",
            "Data for PAM or PAM.BA is empty. Skipping this ticker.\n",
            "[*********************100%***********************]  1 of 1 completed\n",
            "[*********************100%***********************]  1 of 1 completed"
          ]
        },
        {
          "name": "stderr",
          "output_type": "stream",
          "text": [
            "\n",
            "1 Failed download:\n",
            "['TEO.BA']: Exception('%ticker%: No timezone found, symbol may be delisted')\n"
          ]
        },
        {
          "name": "stdout",
          "output_type": "stream",
          "text": [
            "\n",
            "Data for TEO or TEO.BA is empty. Skipping this ticker.\n",
            "[*********************100%***********************]  1 of 1 completed\n",
            "[*********************100%***********************]  1 of 1 completed"
          ]
        },
        {
          "name": "stderr",
          "output_type": "stream",
          "text": [
            "\n",
            "1 Failed download:\n",
            "['TS.BA']: Exception('%ticker%: No timezone found, symbol may be delisted')\n"
          ]
        },
        {
          "name": "stdout",
          "output_type": "stream",
          "text": [
            "\n",
            "Data for TS or TS.BA is empty. Skipping this ticker.\n",
            "[*********************100%***********************]  1 of 1 completed\n",
            "[*********************100%***********************]  1 of 1 completed"
          ]
        },
        {
          "name": "stderr",
          "output_type": "stream",
          "text": [
            "\n",
            "1 Failed download:\n",
            "['TX.BA']: Exception('%ticker%: No timezone found, symbol may be delisted')\n"
          ]
        },
        {
          "name": "stdout",
          "output_type": "stream",
          "text": [
            "\n",
            "Data for TX or TX.BA is empty. Skipping this ticker.\n",
            "[*********************100%***********************]  1 of 1 completed\n",
            "[*********************100%***********************]  1 of 1 completed"
          ]
        },
        {
          "name": "stderr",
          "output_type": "stream",
          "text": [
            "\n",
            "1 Failed download:\n",
            "['TGS.BA']: Exception('%ticker%: No timezone found, symbol may be delisted')\n"
          ]
        },
        {
          "name": "stdout",
          "output_type": "stream",
          "text": [
            "\n",
            "Data for TGS or TGS.BA is empty. Skipping this ticker.\n"
          ]
        }
      ],
      "source": [
        "for company in companies:\n",
        "    try:\n",
        "        # Get the data for company and company.BA\n",
        "        data_ADR = yf.download(company, start=one_month_ago, end=now)\n",
        "        data_local = yf.download(f'{company}.BA', start=one_month_ago, end=now)\n",
        "\n",
        "        # Check if the data is valid\n",
        "        if data_ADR.empty or data_local.empty:\n",
        "            print(f\"Data for {company} or {company}.BA is empty. Skipping this ticker.\")\n",
        "            continue\n",
        "\n",
        "        # Merge the dataframes\n",
        "        data_ADR = data_ADR.rename(columns={'Close': f'Close_{company}'})\n",
        "        data_local = data_local.rename(columns={'Close': f'Close_{company}.BA'})\n",
        "        data = pd.concat([data_ADR[f'Close_{company}'], data_local[f'Close_{company}.BA']], axis=1)\n",
        "\n",
        "        # Get the specific multiplier for the company from the dictionary\n",
        "        multiplier = multipliers.get(company, 1)\n",
        "\n",
        "        # Calculate company.BA / company * multiplier and add it to the dataframe\n",
        "        data[f'Ratio_{company}'] = (data[f'Close_{company}.BA'] / data[f'Close_{company}']) * multiplier\n",
        "\n",
        "        # Store the dataframe in the dictionary\n",
        "        data_dict[company] = data\n",
        "    except Exception as e:\n",
        "        print(f\"An exception occurred while processing {company}: {str(e)}\")\n",
        "        continue"
      ]
    },
    {
      "cell_type": "code",
      "execution_count": 39,
      "metadata": {
        "id": "awsJ4UvlePLP"
      },
      "outputs": [],
      "source": [
        "# Create a dataframe for composite index\n",
        "composite_index = pd.DataFrame(index=data_dict[list(data_dict.keys())[0]].index)\n",
        "composite_index['composite_ratio'] = np.nan\n",
        "\n",
        "for company in data_dict:\n",
        "    composite_index['composite_ratio'] += data_dict[company][f'Ratio_{company}']\n",
        "\n",
        "composite_index['composite_ratio'] /= len(companies)"
      ]
    },
    {
      "cell_type": "code",
      "execution_count": 40,
      "metadata": {
        "colab": {
          "base_uri": "https://localhost:8080/",
          "height": 365
        },
        "id": "TClB0KbSeSgy",
        "outputId": "96ce93c7-cc3b-4e77-b46e-fba70d41c306"
      },
      "outputs": [
        {
          "data": {
            "image/png": "[encoded data removed]",
            "text/plain": [
              "<Figure size 1000x500 with 1 Axes>"
            ]
          },
          "metadata": {},
          "output_type": "display_data"
        }
      ],
      "source": [
        "# Create a plot\n",
        "plt.figure(figsize=(10,5))\n",
        "for company in companies:\n",
        "    if company in data_dict:\n",
        "        plt.plot(data_dict[company].index, data_dict[company][f'Ratio_{company}'], label=company)\n",
        "plt.plot(composite_index.index, composite_index['composite_ratio'], label='Composite', color='black', linewidth=2)\n",
        "plt.legend()\n",
        "plt.title('Ratios and Composite Index Over the Last Month')\n",
        "plt.xlabel('Date')\n",
        "plt.ylabel('Ratio Value')\n",
        "plt.show()"
      ]
    },
    {
      "attachments": {},
      "cell_type": "markdown",
      "metadata": {
        "id": "1T53w7Oukf1T"
      },
      "source": [
        "# Arbitrage Scanner"
      ]
    },
    {
      "cell_type": "code",
      "execution_count": 41,
      "metadata": {
        "colab": {
          "base_uri": "https://localhost:8080/"
        },
        "id": "H_dfD5rZeTgb",
        "outputId": "78bf404b-f3c0-4367-ad2d-b425836f96e8"
      },
      "outputs": [
        {
          "name": "stdout",
          "output_type": "stream",
          "text": [
            "[*********************100%***********************]  1 of 1 completed\n",
            "[*********************100%***********************]  1 of 1 completed\n",
            "[*********************100%***********************]  1 of 1 completed\n",
            "[*********************100%***********************]  1 of 1 completed"
          ]
        },
        {
          "name": "stderr",
          "output_type": "stream",
          "text": [
            "\n",
            "1 Failed download:\n",
            "['CRESY.BA']: Exception('%ticker%: No timezone found, symbol may be delisted')\n"
          ]
        },
        {
          "name": "stdout",
          "output_type": "stream",
          "text": [
            "\n",
            "Data for CRESY or CRESY.BA is empty. Skipping this ticker.\n",
            "[*********************100%***********************]  1 of 1 completed\n",
            "[*********************100%***********************]  1 of 1 completed\n",
            "[*********************100%***********************]  1 of 1 completed\n",
            "[*********************100%***********************]  1 of 1 completed\n",
            "[*********************100%***********************]  1 of 1 completed\n",
            "[*********************100%***********************]  1 of 1 completed\n",
            "[*********************100%***********************]  1 of 1 completed\n",
            "[*********************100%***********************]  1 of 1 completed"
          ]
        },
        {
          "name": "stderr",
          "output_type": "stream",
          "text": [
            "\n",
            "1 Failed download:\n",
            "['IRS.BA']: Exception('%ticker%: No timezone found, symbol may be delisted')\n"
          ]
        },
        {
          "name": "stdout",
          "output_type": "stream",
          "text": [
            "\n",
            "Data for IRS or IRS.BA is empty. Skipping this ticker.\n",
            "[*********************100%***********************]  1 of 1 completed\n",
            "[*********************100%***********************]  1 of 1 completed\n",
            "[*********************100%***********************]  1 of 1 completed\n",
            "[*********************100%***********************]  1 of 1 completed"
          ]
        },
        {
          "name": "stderr",
          "output_type": "stream",
          "text": [
            "\n",
            "1 Failed download:\n",
            "['PAM.BA']: Exception('%ticker%: No timezone found, symbol may be delisted')\n"
          ]
        },
        {
          "name": "stdout",
          "output_type": "stream",
          "text": [
            "\n",
            "Data for PAM or PAM.BA is empty. Skipping this ticker.\n",
            "[*********************100%***********************]  1 of 1 completed\n",
            "[*********************100%***********************]  1 of 1 completed"
          ]
        },
        {
          "name": "stderr",
          "output_type": "stream",
          "text": [
            "\n",
            "1 Failed download:\n",
            "['TEO.BA']: Exception('%ticker%: No timezone found, symbol may be delisted')\n"
          ]
        },
        {
          "name": "stdout",
          "output_type": "stream",
          "text": [
            "\n",
            "Data for TEO or TEO.BA is empty. Skipping this ticker.\n",
            "[*********************100%***********************]  1 of 1 completed\n",
            "[*********************100%***********************]  1 of 1 completed"
          ]
        },
        {
          "name": "stderr",
          "output_type": "stream",
          "text": [
            "\n",
            "1 Failed download:\n",
            "['TS.BA']: Exception('%ticker%: No timezone found, symbol may be delisted')\n"
          ]
        },
        {
          "name": "stdout",
          "output_type": "stream",
          "text": [
            "\n",
            "Data for TS or TS.BA is empty. Skipping this ticker.\n",
            "[*********************100%***********************]  1 of 1 completed\n",
            "[*********************100%***********************]  1 of 1 completed"
          ]
        },
        {
          "name": "stderr",
          "output_type": "stream",
          "text": [
            "\n",
            "1 Failed download:\n",
            "['TX.BA']: Exception('%ticker%: No timezone found, symbol may be delisted')\n"
          ]
        },
        {
          "name": "stdout",
          "output_type": "stream",
          "text": [
            "\n",
            "Data for TX or TX.BA is empty. Skipping this ticker.\n",
            "[*********************100%***********************]  1 of 1 completed\n",
            "[*********************100%***********************]  1 of 1 completed"
          ]
        },
        {
          "name": "stderr",
          "output_type": "stream",
          "text": [
            "\n",
            "1 Failed download:\n",
            "['TGS.BA']: Exception('%ticker%: No timezone found, symbol may be delisted')\n"
          ]
        },
        {
          "name": "stdout",
          "output_type": "stream",
          "text": [
            "\n",
            "Data for TGS or TGS.BA is empty. Skipping this ticker.\n",
            "Initial USD spent: -48.8199999332428\n",
            "Final ARS balance: nan\n",
            "Final USD balance: nan\n"
          ]
        }
      ],
      "source": [
        "import yfinance as yf\n",
        "import pandas as pd\n",
        "import matplotlib.pyplot as plt\n",
        "import numpy as np\n",
        "\n",
        "# Define list of companies and their multipliers\n",
        "companies = ['CEPU', 'CRESY', 'EDN', 'GGAL', 'SUPV', 'IRS', 'LOMA', 'PAM', 'TEO', 'TS', 'TX', 'TGS']\n",
        "multipliers = {'CEPU': 10, 'CRESY': 1, 'EDN': 20, 'GGAL': 10, 'SUPV': 5, 'IRS': 10, 'LOMA': 5, 'PAM': 25, 'TEO': 5, 'TS': 1, 'TX': 1, 'TGS': 1}\n",
        "\n",
        "# Initialize data_dict to store data for each company\n",
        "data_dict = {}\n",
        "\n",
        "# Define start and end dates\n",
        "one_month_ago = (pd.Timestamp.today() - pd.DateOffset(months=1)).strftime('%Y-%m-%d')\n",
        "now = pd.Timestamp.today().strftime('%Y-%m-%d')\n",
        "\n",
        "for company in companies:\n",
        "    # Download data for each company\n",
        "    data_ADR = yf.download(company, start=one_month_ago, end=now)\n",
        "    data_local = yf.download(f'{company}.BA', start=one_month_ago, end=now)\n",
        "\n",
        "    if data_ADR.empty or data_local.empty:\n",
        "        print(f\"Data for {company} or {company}.BA is empty. Skipping this ticker.\")\n",
        "        continue\n",
        "\n",
        "    data_ADR = data_ADR.rename(columns={'Close': f'Close_{company}'})\n",
        "    data_local = data_local.rename(columns={'Close': f'Close_{company}.BA'})\n",
        "    data = pd.concat([data_ADR[f'Close_{company}'], data_local[f'Close_{company}.BA']], axis=1)\n",
        "    multiplier = multipliers.get(company, 1)\n",
        "\n",
        "    # Calculate company.BA / company * multiplier and add it to the dataframe\n",
        "    data[f'Ratio_{company}'] = (data[f'Close_{company}.BA'] / data[f'Close_{company}']) * multiplier\n",
        "    data_dict[company] = data\n",
        "\n",
        "# Create a dataframe for composite index\n",
        "composite_index = pd.DataFrame(index=data_dict[list(data_dict.keys())[0]].index)\n",
        "composite_index['composite_ratio'] = np.nan\n",
        "\n",
        "for company in data_dict:\n",
        "    composite_index['composite_ratio'] += data_dict[company][f'Ratio_{company}']\n",
        "\n",
        "composite_index['composite_ratio'] /= len(data_dict)\n",
        "\n",
        "# Begin cycle for index of stocks\n",
        "usd_1 = 0\n",
        "ars_1 = 0\n",
        "\n",
        "for company in companies:\n",
        "    if company in data_dict:\n",
        "        adr_high = data_dict[company].iloc[-1][f'Close_{company}']\n",
        "        stock_high = data_dict[company].iloc[-1][f'Close_{company}.BA']\n",
        "        mult_high = multipliers[company]\n",
        "\n",
        "        usd_1 -= adr_high\n",
        "        ars_1 += mult_high * stock_high\n",
        "\n",
        "usd_2 = ars_1 / composite_index.iloc[-1]['composite_ratio']\n",
        "usd_balance = usd_1 + usd_2\n",
        "\n",
        "# Display results\n",
        "print(f\"Initial USD spent: {usd_1}\")\n",
        "print(f\"Final ARS balance: {ars_1}\")\n",
        "print(f\"Final USD balance: {usd_balance}\")"
      ]
    },
    {
      "cell_type": "code",
      "execution_count": null,
      "metadata": {},
      "outputs": [],
      "source": []
    }
  ],
  "metadata": {
    "colab": {
      "provenance": []
    },
    "kernelspec": {
      "display_name": "Python 3",
      "name": "python3"
    },
    "language_info": {
      "codemirror_mode": {
        "name": "ipython",
        "version": 3
      },
      "file_extension": ".py",
      "mimetype": "text/x-python",
      "name": "python",
      "nbconvert_exporter": "python",
      "pygments_lexer": "ipython3",
      "version": "3.11.4"
    }
  },
  "nbformat": 4,
  "nbformat_minor": 0
}
